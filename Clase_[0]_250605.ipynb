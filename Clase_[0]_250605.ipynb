{
  "nbformat": 4,
  "nbformat_minor": 0,
  "metadata": {
    "colab": {
      "provenance": [],
      "collapsed_sections": [
        "QbMTSJdpKfrf"
      ],
      "toc_visible": true
    },
    "kernelspec": {
      "name": "python3",
      "display_name": "Python 3"
    },
    "language_info": {
      "name": "python"
    }
  },
  "cells": [
    {
      "cell_type": "markdown",
      "source": [
        "<p align=\"right\">\n",
        "  <img\n",
        "    src=\"https://drive.google.com/uc?export=view&id=1GNuPIGVd1L9ckoRIVKFfdL8wXK87Da9u\"\n",
        "    alt=\"pypl\"\n",
        "    width=\"300%\"\n",
        "    height=\"20%\">\n",
        "</p>\n",
        "\n"
      ],
      "metadata": {
        "id": "30RJUeAhdW-d"
      }
    },
    {
      "cell_type": "markdown",
      "source": [
        "#*Módulo 1: Introducción a la Programación en Python*"
      ],
      "metadata": {
        "id": "QRrpszyacKhc"
      }
    },
    {
      "cell_type": "markdown",
      "source": [
        "##Contexto General"
      ],
      "metadata": {
        "id": "pn1j5qknKycB"
      }
    },
    {
      "cell_type": "markdown",
      "source": [
        "### Lenguajes de Programación"
      ],
      "metadata": {
        "id": "hrIwlkL5qgGK"
      }
    },
    {
      "cell_type": "markdown",
      "source": [
        "\"*Un lenguaje de programación es un lenguaje formal (o artificial, es decir, un lenguaje con reglas de semántica y sintaxis bien definidas) que proporciona a una persona, en este caso el programador, la capacidad y habilidad de escribir (o programar) una serie de instrucciones o secuencias de órdenes en forma de algoritmos con el fin de controlar el comportamiento físico o lógico de un sistema informático, para que de esa manera se puedan obtener diversas clases de datos o ejecutar determinadas tareas. A todo este conjunto de órdenes escritas mediante un lenguaje de programación se le denomina programa informático​*\""
      ],
      "metadata": {
        "id": "si4fGQcknw9z"
      }
    },
    {
      "cell_type": "markdown",
      "source": [
        "Existen distintos tipos de lenguajes de programación, cómo són los de bajo y alto nivel, y dentro de esas categorías, lenguajes que son más útiles para cada fin, cada uno con su ventaja y desventaja:"
      ],
      "metadata": {
        "id": "5vBJMSy8qltC"
      }
    },
    {
      "cell_type": "markdown",
      "source": [
        "🧩 Tipos de Lenguajes de Programación\n",
        "\n",
        "| Nivel           | Descripción                                                             | Ejemplos                              | Ventajas                                                | Desventajas                                               |\n",
        "|------------------|------------------------------------------------------------------------|----------------------------------------|----------------------------------------------------------|------------------------------------------------------------|\n",
        "| 🧠 Alto nivel     | Lenguajes cercanos al lenguaje humano. Fáciles de aprender.             | Python, Java, C#, JavaScript, Ruby     | Legibles, portables, productivos.                         | Menor control sobre hardware, menor velocidad a veces.     |\n",
        "| ⚙️ Bajo nivel     | Cercanos al hardware. Requieren conocimiento técnico profundo.         | Ensamblador, C, lenguaje máquina       | Máximo control y eficiencia.                              | Difíciles de leer, no portables, propensos a errores.      |\n",
        "\n",
        "📌 Diferencias clave\n",
        "\n",
        "| Característica             | Lenguajes de Alto Nivel                         | Lenguajes de Bajo Nivel                          |\n",
        "|---------------------------|--------------------------------------------------|--------------------------------------------------|\n",
        "| Abstracción               | Alta                                             | Baja                                             |\n",
        "| Facilidad de uso          | Alta (más simple para humanos)                  | Baja (más técnica)                              |\n",
        "| Portabilidad              | Alta                                             | Baja                                             |\n",
        "| Control del hardware      | Bajo                                             | Muy alto                                         |\n",
        "| Ejecución                 | Más lenta                                        | Muy rápida                                       |\n",
        "| Compilación/Interpretación| Generalmente interpretados o compilados         | Directamente compilados a código máquina        |\n",
        "\n",
        "\n"
      ],
      "metadata": {
        "id": "LX0CEGr_oQiZ"
      }
    },
    {
      "cell_type": "markdown",
      "source": [
        "*   **Lenguajes Interpretados:** Se leen y se ejecutan línea a línea (ejemplo, Python, que es dinamicamente tipado). Necesitamos un \"Interprete\" que va traduciendo cada línea a código máquina.\n",
        "\n",
        "*   **Lenguajes Compilados:** Una vez creado el archivo, se compila todo el código a código máquina, lo cuál es más rápido y luego se ejecuta (ejemplo, C)."
      ],
      "metadata": {
        "id": "7IjoH-2brzdj"
      }
    },
    {
      "cell_type": "markdown",
      "source": [
        "### ¿Por qué Python?"
      ],
      "metadata": {
        "id": "rFN6gjfGr5xi"
      }
    },
    {
      "cell_type": "markdown",
      "source": [
        "Python es uno de los lenguajes de programación con **reglas más simples e intuitivas** que existen, lo cuál explica la creciente popularidad que ha tenido en los ultimos tiempos.\n",
        "\n",
        "Es un lenguaje utilizado con **múltiples propósitos**, entre ellos la manipulación y procesamiento de datos, la creación de aplicaciones web (menos común) y es uno de los más populares en el campo de la ciencia de datos junto con R (quizás este un poco más fuerte en el ámbito académico).\n",
        "\n",
        "Una ventaja muy importante es que la **comunidad** de Python es una de las más grandes, recordando que Python es **Open Source**. Esto implica que todos los desarrollos son disponibilizados a la comunidad, por medio de repositorios a los que uno puede acceder y no sólo hacer uso de ellos (cómo las librerias) sino tambien acceder al código fuente, entender que hay por detrás y hasta dar feedback y reportar errores para seguir colaborando en comunidad.\n",
        "\n",
        "Comunidad Opensource por excelencia:\n",
        "\n",
        "*   [Github](https://github.com/) : es el repositorio de código más grande del mundo, en dónde se almacena la inmensa mayoría de los desarrollos con sus documentaciones, versiones, cambios, etc.\n",
        "*   [StackOverFlow](https://stackoverflow.com/questions): es cómo el google de la programación. Un foro de preguntas y respuestas de los más populares lenguajes de programación (seguramente si uno tiene una duda, alguien la tuvo antes y allí podremos encontrar la respuesta)."
      ],
      "metadata": {
        "id": "lS2Qso4ysNuq"
      }
    },
    {
      "cell_type": "markdown",
      "source": [
        "Volviendo a Python, mencionamos que su [popularidad](https://www.tiobe.com/tiobe-index/) es un dato no menor, además de una de sus grandes [ventajas](https://learnpython.com/blog/why-is-python-so-popular/). El siguiente gráfico elaborado por TIOBE, nos muestra cuán usado es respecto a otros lenguajes, así como también el crecimiento de su uso en el tiempo."
      ],
      "metadata": {
        "id": "rgzkmEJYsUlb"
      }
    },
    {
      "cell_type": "markdown",
      "source": [
        "![image.png](data:image/png;base64,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)"
      ],
      "metadata": {
        "id": "SzuBR4uvtP8R"
      }
    },
    {
      "cell_type": "markdown",
      "source": [
        "https://computerhoy.20minutos.es/tecnologia/python-consigue-hito-mitico-historico-programacion-java-1463868?utm_source=Whatsapp&utm_medium=referral&utm_campaign=Botones_sociales"
      ],
      "metadata": {
        "id": "TgqzFV8Ohvor"
      }
    },
    {
      "cell_type": "markdown",
      "source": [
        "### ¿Cómo accedo a programar en Python?"
      ],
      "metadata": {
        "id": "fjnVn5P8BqZB"
      }
    },
    {
      "cell_type": "markdown",
      "source": [
        "Si Python es un lenguaje de programación, cómo accedo a programar en python? Qué tenemos que instalar? Es un software propiamente dicho? Existen diversas maneras de acceder a programar en python, podemos mencionarlas y explicar conceptos importantes que están alrededor."
      ],
      "metadata": {
        "id": "4F788cdhBv7Q"
      }
    },
    {
      "cell_type": "markdown",
      "source": [
        "\n",
        "\n",
        "*   **Intérprete de Python :** Es el componente principal que ejecuta el código Python línea por línea. Al instalar Python, también se incluye un ecosistema básico con herramientas como la biblioteca estándar y el gestor de paquetes pip (**adelento**: esto nos permitirá acceder a \"paquetes de cosas útiles\", llamadas librerias). El intérprete es esencial: sin él, no se puede correr código Python, ni desde un IDE, ni desde una notebook.\n",
        "\n",
        "*   **Consola de Python :** Es un entorno interactivo en forma de terminal donde se pueden ejecutar instrucciones de Python una a una. Es útil para probar rápidamente fragmentos de código o hacer cálculos, pero no es ideal para trabajar con proyectos grandes de ciencia de datos debido a su interfaz limitada (Pista: no es amigable).\n",
        "\n",
        "*   **IDE :** Es una aplicación que integra en un solo lugar herramientas clave para programar: editor de texto, terminal, explorador de archivos, depurador, autocompletado inteligente con IA y a veces integración con control de versiones y notebooks. En ciencia de datos, facilita el trabajo con scripts extensos, análisis exploratorio y visualización de datos. Ejemplos: VS Code, PyCharm, Cursor,etc. Necesita sí o sí el intérprete de Python para funcionar.\n",
        "\n",
        "*   **Notebooks** : Son una forma interactiva de desarrollar en Python, especialmente popular en ciencia de datos. Permiten combinar texto explicativo (Markdown), visualizaciones y código ejecutable en \"celdas\". Ideales para análisis exploratorios, pruebas de modelos, y comunicación de resultados. Aunque se parecen a un IDE en funcionalidad, su foco está en la experimentación y documentación interactiva. También requieren el intérprete de Python.\n",
        "  \\\n",
        "  a)**Jupyter Notebooks :** Son notebooks que corren de manera local.\n",
        "\n",
        "  b)**Google Collab (¡Dónde estamos ahora!):** Corren en el servicio de google, no consumen recursos de nuestra PC y según el plan tenemos diferente poder de cómputo. Además, tiene un asistente de generación de código con IA que nos ayuda a ser más eficientes.\n",
        "\n",
        "\n",
        "\n",
        "\n",
        "\n",
        "\n"
      ],
      "metadata": {
        "id": "7c6GPebGCftT"
      }
    },
    {
      "cell_type": "markdown",
      "source": [
        "¿Y cuál es el resultado que esperamos?\n",
        "\n",
        "*   En fases exploratorias, de investigación y de desarrollo, como científicos trabajamos en laboratorios desplegados en notebooks (archivos .pynb).\n",
        "*   Una vez que definimos un script, vamos a generar un archivo ejecutable el cuál va a ser corrido por el intérprete de python (archivo .py) y va a generar un resultado que querramos, sea una estimación, un número, un conjunto de números, etc."
      ],
      "metadata": {
        "id": "3B9yT8F4HcfJ"
      }
    },
    {
      "cell_type": "markdown",
      "source": [
        "## Primero Scripts"
      ],
      "metadata": {
        "id": "7WU6JYnNKnNw"
      }
    },
    {
      "cell_type": "markdown",
      "source": [
        "### Outputs"
      ],
      "metadata": {
        "id": "9IG_G60BN8Y4"
      }
    },
    {
      "cell_type": "markdown",
      "source": [
        "El output de un bloque de código, función o una línea, simplemente es la manera de transmitir información hacia el entorno. En Collab  vemos el output del programa debajo de la celda donde fue ejecutado.\n",
        "\n",
        "En algunos casos (en la consola, por ejemplo), para mostrar un dato en la pantalla, precisamos utilizar el comando **`print( )`**, poniendo el dato que deseemos entre los parentesis.\n",
        "\n",
        "La estructura **`nombre(argumento1, argumento2, ...)`** corresponde a una **función** en Python. Una función es un bloque de código que se ejecuta sólo cuando es llamado.Como toda función, se les paso datos/instrucciones específicas, también llamados argumentos o parámetros,y nos devuelve un resultado o realiza una determinada acción.\n",
        "\n",
        "El comando **`print( )`** va a recibir como argumento, un número y una cadena de texto, o **string**, e imprimirá el texto en pantalla. Print, es una **\"Built-in function\"**, a diferencia de una función que podemos crear nosotros."
      ],
      "metadata": {
        "id": "6FHClOjRODpu"
      }
    },
    {
      "cell_type": "code",
      "source": [
        "print(\"Hola\")  #Las cadenas de texto van sí o sí entre comillas\n",
        "print(1234)  #Sin comillas, implica que no es de tipo texto.\n",
        "print(\"1234\") #Con comillas"
      ],
      "metadata": {
        "id": "HUzsWzhNOQNw",
        "colab": {
          "base_uri": "https://localhost:8080/"
        },
        "outputId": "d53a8d6f-bb46-47b2-cbca-a0c0fbbc4af8"
      },
      "execution_count": null,
      "outputs": [
        {
          "output_type": "stream",
          "name": "stdout",
          "text": [
            "Hola\n",
            "1234\n",
            "1234\n"
          ]
        }
      ]
    },
    {
      "cell_type": "markdown",
      "source": [
        "Ahora bien...\\\n",
        "🤔¿Qué vamos a imprimir?\\\n",
        "🤔¿Qué queremos como output?\\\n",
        "🤔¿Qué nos permite Python obtener como output?"
      ],
      "metadata": {
        "id": "ii3rzlE-x5HZ"
      }
    },
    {
      "cell_type": "markdown",
      "source": [
        "Lo que vamos a estar haciendo línea a línea es darle **instrucciones** al intérprete de Python para que haga \"algo\", sea ejecutar una acción por medio de una función, asignar una variable, definir una función, etc."
      ],
      "metadata": {
        "id": "EqlY_5sAynpr"
      }
    },
    {
      "cell_type": "markdown",
      "source": [
        "### Variables"
      ],
      "metadata": {
        "id": "gbELxpmHy2ny"
      }
    },
    {
      "cell_type": "markdown",
      "source": [
        "En programación, se le asigna un nombre o \"apodo\" a cada pequeño segmento de la memoria (kernel) que almacena un dato o un valor.\n",
        "Una variable es un espacio o contenedor reservado en memoria al que le ponemos un \"apodo\" y en el que se puede almacenar algo (uno o mas números, textos, listas,oraciones,etc) y que permite recuperar/transformar/modificar lo almacenado si lo volvemos a declarar una vez guardado previamente, invocándolo por su \"apodo\".\n",
        "\n",
        "\n",
        "Para que un programa funcione y pueda realizar tareas es necesario guardar en la memoria los datos que necesita. De esta forma, cada vez que se usa este nombre en el programa se esta refiriendo al valor del dato almacenado. Este es el concepto de \"**variable**\"."
      ],
      "metadata": {
        "id": "3APg0iuiy9lS"
      }
    },
    {
      "cell_type": "code",
      "source": [
        "acción = 'GGAL'\n",
        "acción # O print(acción) en el caso de estar en la consola o un IDE"
      ],
      "metadata": {
        "colab": {
          "base_uri": "https://localhost:8080/",
          "height": 36
        },
        "id": "slgWHo-G1GvL",
        "outputId": "b261cb4a-527e-4b39-9cc6-61c0f2b4c27b"
      },
      "execution_count": null,
      "outputs": [
        {
          "output_type": "execute_result",
          "data": {
            "text/plain": [
              "'GGAL'"
            ],
            "application/vnd.google.colaboratory.intrinsic+json": {
              "type": "string"
            }
          },
          "metadata": {},
          "execution_count": 2
        }
      ]
    },
    {
      "cell_type": "code",
      "source": [
        "acciones = 'GGAL e YPF'\n",
        "acciones\n"
      ],
      "metadata": {
        "colab": {
          "base_uri": "https://localhost:8080/",
          "height": 36
        },
        "id": "gE8x4CmP1gzU",
        "outputId": "517f94d7-6ff9-4a06-df19-63bfab33b952"
      },
      "execution_count": null,
      "outputs": [
        {
          "output_type": "execute_result",
          "data": {
            "text/plain": [
              "'GGAL e YPF'"
            ],
            "application/vnd.google.colaboratory.intrinsic+json": {
              "type": "string"
            }
          },
          "metadata": {},
          "execution_count": 3
        }
      ]
    },
    {
      "cell_type": "code",
      "source": [
        "precio = 50\n",
        "print(\"El precio de mi acción de\",acción,\"es de\",precio)"
      ],
      "metadata": {
        "colab": {
          "base_uri": "https://localhost:8080/"
        },
        "id": "iIdk8feB16PC",
        "outputId": "8121f025-6616-4b77-9c91-faa4f4254f8d"
      },
      "execution_count": null,
      "outputs": [
        {
          "output_type": "stream",
          "name": "stdout",
          "text": [
            "El precio de mi acción de GGAL es de 50\n"
          ]
        }
      ]
    },
    {
      "cell_type": "code",
      "source": [
        "aumento = 10\n",
        "print(\"El precio de mi acción de\",acción,\"es de\",precio+aumento)  #Cadena de texto"
      ],
      "metadata": {
        "colab": {
          "base_uri": "https://localhost:8080/"
        },
        "id": "HjKr5VIy2PlU",
        "outputId": "423693d6-0d96-4bf3-9ae0-b0d073250493"
      },
      "execution_count": null,
      "outputs": [
        {
          "output_type": "stream",
          "name": "stdout",
          "text": [
            "El precio de mi acción de GGAL es de 60\n"
          ]
        }
      ]
    },
    {
      "cell_type": "markdown",
      "source": [
        "Para asignar el valor de la variable, hasta ahora utilizamos el **=**, pero que otro operador podemos utilizar?"
      ],
      "metadata": {
        "id": "WXLAEa792iVc"
      }
    },
    {
      "cell_type": "code",
      "source": [
        "precio += 10\n",
        "print(\"El precio de mi acción de\",acción,\"es de\",precio)"
      ],
      "metadata": {
        "colab": {
          "base_uri": "https://localhost:8080/"
        },
        "id": "-9acAnVM2sFZ",
        "outputId": "1fc78ee7-4849-491c-f8de-aff6c03f3f9c"
      },
      "execution_count": null,
      "outputs": [
        {
          "output_type": "stream",
          "name": "stdout",
          "text": [
            "El precio de mi acción de GGAL es de 60\n"
          ]
        }
      ]
    },
    {
      "cell_type": "markdown",
      "source": [
        "Hasta aquí imprimos \"partes sueltas\" separadas por coma, pero no es una cadena compuesta. Para hacer una cadena compuesta, usamos F-String"
      ],
      "metadata": {
        "id": "CgBFmSQl5Tu5"
      }
    },
    {
      "cell_type": "code",
      "source": [
        "print(f\"El precio de mi acción {acción} es de ${precio}\")\n",
        "print(f\"El precio de mi acción {acción} es de ${precio*2}\")\n",
        "print(f\"El precio de mi acción {acción} es de ${precio+aumento}\")"
      ],
      "metadata": {
        "colab": {
          "base_uri": "https://localhost:8080/"
        },
        "id": "gMRmtqMV5lOY",
        "outputId": "39279e9f-8890-4a2d-9185-c8d2525ab7a9"
      },
      "execution_count": null,
      "outputs": [
        {
          "output_type": "stream",
          "name": "stdout",
          "text": [
            "El precio de mi acción GGAL es de $60\n",
            "El precio de mi acción GGAL es de $120\n",
            "El precio de mi acción GGAL es de $70\n"
          ]
        }
      ]
    },
    {
      "cell_type": "markdown",
      "source": [
        "🔹 Usás una sola cadena con interpolación.\n",
        "\n",
        "🔹 Más legible, más limpio y más fácil de mantener.\n",
        "\n",
        "🔹 Más potente: permite incluir expresiones dentro de {}."
      ],
      "metadata": {
        "id": "g769WaVH50v4"
      }
    },
    {
      "cell_type": "markdown",
      "source": [
        "¿Qué nombre o apodo le puedo poner a una variable? O mejor dicho, que no...\n",
        "\n",
        "*   Deben empezar con alguna letra o \"_\", no números para no confundir con un número.\n",
        "*   No es lo mismo minúscula que mayúscula (case sensitive).\n",
        "*   Existen paralabras reservadas por Python (keywords)\n",
        "que no se pueden utilizar, ya que hacen referencia a métodos, funciones, etc (ejemplo print).\n",
        "\n"
      ],
      "metadata": {
        "id": "WTi5bldU6GRx"
      }
    },
    {
      "cell_type": "code",
      "source": [
        "help('keywords')"
      ],
      "metadata": {
        "colab": {
          "base_uri": "https://localhost:8080/"
        },
        "id": "qPNqluz-6rLg",
        "outputId": "5b54e3ab-f278-4a0c-b4a9-211d007726cf"
      },
      "execution_count": null,
      "outputs": [
        {
          "output_type": "stream",
          "name": "stdout",
          "text": [
            "\n",
            "Here is a list of the Python keywords.  Enter any keyword to get more help.\n",
            "\n",
            "False               class               from                or\n",
            "None                continue            global              pass\n",
            "True                def                 if                  raise\n",
            "and                 del                 import              return\n",
            "as                  elif                in                  try\n",
            "assert              else                is                  while\n",
            "async               except              lambda              with\n",
            "await               finally             nonlocal            yield\n",
            "break               for                 not                 \n",
            "\n"
          ]
        }
      ]
    },
    {
      "cell_type": "markdown",
      "source": [
        "Probamos algunos nombres de variables para forzar el error..."
      ],
      "metadata": {
        "id": "NW0CIE20WFs0"
      }
    },
    {
      "cell_type": "code",
      "source": [
        "# if = 100\n",
        "# 12 = \"hola\"\n",
        "# -12 = \"hola\""
      ],
      "metadata": {
        "id": "Pio1UX5S6wV2"
      },
      "execution_count": null,
      "outputs": []
    },
    {
      "cell_type": "markdown",
      "source": [
        "Otra forma de asignarle valores a una variable, es hacerlo por medio de la interfaz o consola, para que lo haga el usuario. Más adelante veremos, que tambien podemos asignarle un valor leyendo un elemento de una lista de valores, una columna de una tabla, entre otros."
      ],
      "metadata": {
        "id": "8QgaxG6oWgVF"
      }
    },
    {
      "cell_type": "code",
      "source": [
        "Precio_lanzar_compra = input(\"El precio al que el sistema debe gatillar la compra de una acción de YPF es de $ \")"
      ],
      "metadata": {
        "id": "XCyBTFgSWwuk",
        "colab": {
          "base_uri": "https://localhost:8080/"
        },
        "outputId": "aa64f68a-ac0d-416d-a1b8-0b540314988a"
      },
      "execution_count": null,
      "outputs": [
        {
          "name": "stdout",
          "output_type": "stream",
          "text": [
            "El precio al que el sistema debe gatillar la compra de una acción de YPF es de $ 100\n"
          ]
        }
      ]
    },
    {
      "cell_type": "markdown",
      "source": [
        "Así como en Excel u otros programas, existen formatos para los valores, en Python tambien, y lo podemos ver utilizando una función llamada **type()**"
      ],
      "metadata": {
        "id": "xycQYlH8kioe"
      }
    },
    {
      "cell_type": "code",
      "source": [
        "type(Precio_lanzar_compra)"
      ],
      "metadata": {
        "id": "V5BQ43VeYOTK",
        "colab": {
          "base_uri": "https://localhost:8080/"
        },
        "outputId": "74e57d4a-10b9-4487-ddf3-685021411271"
      },
      "execution_count": null,
      "outputs": [
        {
          "output_type": "execute_result",
          "data": {
            "text/plain": [
              "str"
            ]
          },
          "metadata": {},
          "execution_count": 11
        }
      ]
    },
    {
      "cell_type": "markdown",
      "source": [
        "### Tipos de Datos"
      ],
      "metadata": {
        "id": "_GszCHSHYBxc"
      }
    },
    {
      "cell_type": "markdown",
      "source": [
        "#### int (Enteros)"
      ],
      "metadata": {
        "id": "-XA_AXbEYTqk"
      }
    },
    {
      "cell_type": "markdown",
      "source": [
        "Es el tipo más basico. Almacena tanto números positivos como negativos. Existen distintos tipos de int, según el rango de valores que precisemos (oportunidad de ahorrar memoria)\n",
        "\n",
        "* int8 → de -128 a 127\n",
        "\n",
        "* int16 → de -32,768 a 32,767\n",
        "\n",
        "* int32 → de -2,147,483,648 a 2,147,483,647\n",
        "\n",
        "* int64 → de -9.22e18 a 9.22e18"
      ],
      "metadata": {
        "id": "vgNlo3pwYePD"
      }
    },
    {
      "cell_type": "code",
      "source": [
        "dias = 5\n",
        "type(dias)"
      ],
      "metadata": {
        "id": "juKfW-CYYEOJ",
        "colab": {
          "base_uri": "https://localhost:8080/"
        },
        "outputId": "55305a68-aa68-4224-de24-4bd8ac6e8a90"
      },
      "execution_count": null,
      "outputs": [
        {
          "output_type": "execute_result",
          "data": {
            "text/plain": [
              "int"
            ]
          },
          "metadata": {},
          "execution_count": 12
        }
      ]
    },
    {
      "cell_type": "code",
      "source": [
        "dividendo = int(input(\"Ingrese dividendo: \"))\n",
        "divisor = int(input(\"Ingrese divisor: \"))\n",
        "\n",
        "\n",
        "print('Tipos del Input:')\n",
        "print('dividendo:', type(dividendo))\n",
        "print('divisor:', type(divisor))\n",
        "\n",
        "##Cociente con decimales\n",
        "cociente_decimales = dividendo/divisor\n",
        "print('Cociente:', cociente_decimales)\n",
        "print(\"Tipo del Resultado:\", type(cociente_decimales))\n",
        "print(\"------------------\")\n",
        "##Cociente sin decimales\n",
        "cociente_entero = dividendo // divisor\n",
        "print('Cociente:', cociente_entero)\n",
        "print(\"Tipo del Resultado:\", type(cociente_entero))\n",
        "print(\"------------------\")\n",
        "##División con resto\n",
        "cociente_resto = dividendo // divisor  #Módulo\n",
        "resto = dividendo % divisor  #Resto\n",
        "print('Cociente:', cociente_resto)\n",
        "print('Resto:', resto)\n",
        "print(\"Tipo del Resultado:\", type(cociente_resto))\n",
        "\n"
      ],
      "metadata": {
        "id": "lYFidGx0YWlz",
        "colab": {
          "base_uri": "https://localhost:8080/"
        },
        "outputId": "d12b9e1c-ec60-48bb-b1e9-6e890e929227"
      },
      "execution_count": null,
      "outputs": [
        {
          "output_type": "stream",
          "name": "stdout",
          "text": [
            "Ingrese dividendo: 20\n",
            "Ingrese divisor: 20\n",
            "Tipos del Input:\n",
            "dividendo: <class 'int'>\n",
            "divisor: <class 'int'>\n",
            "Cociente: 1.0\n",
            "Tipo del Resultado: <class 'float'>\n",
            "------------------\n",
            "Cociente: 1\n",
            "Tipo del Resultado: <class 'int'>\n",
            "------------------\n",
            "Cociente: 1\n",
            "Resto: 0\n",
            "Tipo del Resultado: <class 'int'>\n"
          ]
        }
      ]
    },
    {
      "cell_type": "markdown",
      "source": [
        "#### float (decimales)"
      ],
      "metadata": {
        "id": "RI4n9D8Fbz8B"
      }
    },
    {
      "cell_type": "markdown",
      "source": [
        "Utilizado para almacenar números que puedan contener decimales."
      ],
      "metadata": {
        "id": "WzEl-89Jb-1n"
      }
    },
    {
      "cell_type": "code",
      "source": [
        "pi = 3.14\n",
        "x = 3.    #Alcanza para indicar que es un numero real con el \".\"\n",
        "z = 3\n",
        "\n",
        "print(\"pi =\", pi)\n",
        "print(\"Tipo de pi =\", type(pi))\n",
        "print(\"x =\", x)\n",
        "print(\"Tipo de x =\", type(x))\n",
        "print(\"z =\", z)\n",
        "print(\"Tipo de z =\", type(z))"
      ],
      "metadata": {
        "id": "sEVZp95Nbzmf",
        "colab": {
          "base_uri": "https://localhost:8080/"
        },
        "outputId": "bb742cae-9ea1-4ab0-946e-b18a738f249d"
      },
      "execution_count": null,
      "outputs": [
        {
          "output_type": "stream",
          "name": "stdout",
          "text": [
            "pi = 3.14\n",
            "Tipo de pi = <class 'float'>\n",
            "x = 3.0\n",
            "Tipo de x = <class 'float'>\n",
            "z = 3\n",
            "Tipo de z = <class 'int'>\n"
          ]
        }
      ]
    },
    {
      "cell_type": "markdown",
      "source": [
        "Si queremos conseguir el entero sin la parte decimal de un float, podemos simplemente convertirlo a int. La acción de convertir una variable de un tipo a otro diferente es conocida como **\"casteo\"**.\n",
        "\n",
        "Para ello utilizamos la función propia de Python int()."
      ],
      "metadata": {
        "id": "jpQJ4Wlbce-M"
      }
    },
    {
      "cell_type": "code",
      "source": [
        "y = 3.14\n",
        "x = int(y)\n",
        "\n",
        "print(\"x =\", x)\n",
        "print(\"Tipo de x =\", type(x))"
      ],
      "metadata": {
        "id": "Qs2UPsbBciXP",
        "colab": {
          "base_uri": "https://localhost:8080/"
        },
        "outputId": "2adcd16d-da20-4081-834b-5575139707b6"
      },
      "execution_count": null,
      "outputs": [
        {
          "output_type": "stream",
          "name": "stdout",
          "text": [
            "x = 3\n",
            "Tipo de x = <class 'int'>\n"
          ]
        }
      ]
    },
    {
      "cell_type": "markdown",
      "source": [
        "Es importante tener en cuenta que **los *float* no pueden ser infinitamente precisos**, ya que para eso necesitaríamos infinita memoria dado que los computadores representan números en binario, y algunos decimales no tienen una representación binaria exacta con un número finito de bits. De hecho, Python ni siquiera puede expresar de manera exacta 0.1, pero sí 0.5.\n",
        "\n",
        "Como consecuencia, los números con decimales suelen tener una pequeña diferencia con el valor que realmente deseamos y, por esto, cuando trabajamos con *floats*, suele ser recomendable realizar comparaciones del tipo mayor o menor,**`>`** ó **`<`**, en lugar de igualdad ,**`==`**, o distinto de, **`!=`**, dado que pueden surgir imprecisiones por esa cuestión"
      ],
      "metadata": {
        "id": "otD1kbAsdGIW"
      }
    },
    {
      "cell_type": "code",
      "source": [
        "a = 1/3\n",
        "b = 2/3\n",
        "c = a + b\n",
        "\n",
        "print('a =', a)\n",
        "print('b =', b)\n",
        "print('c =', c)\n",
        "print('Resultado operación inversa a = (c-b) =', c-b)\n",
        "print('Entonces a = (c-b)?', c-b == a)"
      ],
      "metadata": {
        "id": "q6mHAorDdjig",
        "colab": {
          "base_uri": "https://localhost:8080/"
        },
        "outputId": "ced67771-b689-4187-d167-e37b11037e1c"
      },
      "execution_count": null,
      "outputs": [
        {
          "output_type": "stream",
          "name": "stdout",
          "text": [
            "a = 0.3333333333333333\n",
            "b = 0.6666666666666666\n",
            "c = 1.0\n",
            "Resultado operación inversa a = (c-b) = 0.33333333333333337\n",
            "Entonces a = (c-b)? False\n"
          ]
        }
      ]
    },
    {
      "cell_type": "markdown",
      "source": [
        "El uso de **floats** para realizar operaciones tiene varias diferencias respecto a las operaciones habituales que conocemos. Por ejemplo, una de ellas es que la suma de floats no es conmutativa. Es decir, el orden de las operaciones se vuelve importante.Esto sucede cuando se combinan números muy grandes con números muy pequeño, lo que genera errores de cancelación o pérdida de significancia.\n",
        "\n",
        "En el siguiente ejemplo se intenta calcular la suma $10^{16}+1+1+1+1+1+1+1+1+1+1$. El resultado debería ser $10^{16} + 10$, sin embargo el resultado cambia dependiendo del orden en el que se sumen los términos."
      ],
      "metadata": {
        "id": "lEXaFPrPeQgx"
      }
    },
    {
      "cell_type": "code",
      "source": [
        "x = 10.**16\n",
        "\n",
        "# sumo de mayor a menor\n",
        "suma1 = x+1+1+1+1+1+1+1+1+1+1\n",
        "\n",
        "# sumo de menor a mayor\n",
        "suma2 = 1+1+1+1+1+1+1+1+1+1 + x\n",
        "\n",
        "print(f'El resultado de sumar de mayor a menor es: {suma1:16.0f}')\n",
        "print(f'El resultado de sumar de menor a mayor es: {suma2:16.0f}')"
      ],
      "metadata": {
        "id": "fqpzAlCwfzYd",
        "colab": {
          "base_uri": "https://localhost:8080/"
        },
        "outputId": "fda6f333-4495-447d-cbae-52fe17fc77bb"
      },
      "execution_count": null,
      "outputs": [
        {
          "output_type": "stream",
          "name": "stdout",
          "text": [
            "El resultado de sumar de mayor a menor es: 10000000000000000\n",
            "El resultado de sumar de menor a mayor es: 10000000000000010\n"
          ]
        }
      ]
    },
    {
      "cell_type": "markdown",
      "source": [
        "Que sucede si queremos redondear un número decimal?"
      ],
      "metadata": {
        "id": "P8XYWcorf77j"
      }
    },
    {
      "cell_type": "code",
      "source": [
        "#Hacerlo un entero (sin decimales)\n",
        "_precio_ggal = int(33.75)\n",
        "print(_precio_ggal)\n",
        "#Usar el método .round()\n",
        "_precio_ypf = round(33.752548,2)\n",
        "print(_precio_ypf)\n"
      ],
      "metadata": {
        "id": "LVghpAXTf-xs",
        "colab": {
          "base_uri": "https://localhost:8080/"
        },
        "outputId": "d315c2f3-0ae7-484e-d118-35b0a8674104"
      },
      "execution_count": null,
      "outputs": [
        {
          "output_type": "stream",
          "name": "stdout",
          "text": [
            "33\n",
            "33.75\n"
          ]
        }
      ]
    },
    {
      "cell_type": "markdown",
      "source": [
        "#### boolean (verdadero o falso)"
      ],
      "metadata": {
        "id": "4WQGRZftgu4r"
      }
    },
    {
      "cell_type": "markdown",
      "source": [
        "Este es un tipo de dato que puede tomar sólo dos valores distintos: **`True`** (Verdadero) o **`False`** (Falso)"
      ],
      "metadata": {
        "id": "0V14g4Yrg1Vr"
      }
    },
    {
      "cell_type": "code",
      "source": [
        "llueve = int(False)\n",
        "soleado = True\n",
        "print(llueve == soleado)\n",
        "print(type(llueve))"
      ],
      "metadata": {
        "id": "3MgW-n8agyE7",
        "colab": {
          "base_uri": "https://localhost:8080/"
        },
        "outputId": "51b2209a-dfb1-4f82-b127-c389c0551271"
      },
      "execution_count": null,
      "outputs": [
        {
          "output_type": "stream",
          "name": "stdout",
          "text": [
            "False\n",
            "<class 'int'>\n"
          ]
        }
      ]
    },
    {
      "cell_type": "markdown",
      "source": [
        "Todas las comparaciones devuelven booleanos. Prácticamente cualquier dato puede *castearse* (convertirse) a **`boolean`**. Para los números, 0 es **`False`** y cualquier otro es **`True`**. Para otros tipos de datos, en general, son **`False`** si están \"vacíos\" y **`True`** en los demás casos. Estos valores que son considerados cómo False se denominan \"Falsy\".\n",
        "\n",
        "\n",
        "| Tipo de dato | Valor falsy            |\n",
        "| ------------ | ---------------------- |\n",
        "| `NoneType`   | `None`                 |\n",
        "| Numéricos    | `0`, `0.0`, `0j`       |\n",
        "| Secuencias   | `''`, `[]`, `()`       |\n",
        "| Conjuntos    | `set()`, `frozenset()` |\n",
        "| Diccionarios | `{}`                   |\n",
        "| Booleanos    | `False`                |\n",
        "| Rango        | `range(0)`             |\n",
        "\n",
        "\n",
        "La función que se utiliza para *castear* a booleano es **`bool()`**.\n",
        "\n",
        "Además, los **`boolean`** pueden castearse a otros tipos de datos."
      ],
      "metadata": {
        "id": "C_ZNvWwrhCGa"
      }
    },
    {
      "cell_type": "code",
      "source": [
        "print(bool(4))\n",
        "print(bool(0.14))\n",
        "print(bool(0))\n",
        "print(bool(\"HOLA\"))\n",
        "print(bool(\"\"))\n",
        "print(bool(None))"
      ],
      "metadata": {
        "id": "60Gi6WlvhMGA",
        "colab": {
          "base_uri": "https://localhost:8080/"
        },
        "outputId": "6b2cfb5b-30a3-47d3-804a-cf9248caffa1"
      },
      "execution_count": null,
      "outputs": [
        {
          "output_type": "stream",
          "name": "stdout",
          "text": [
            "True\n",
            "True\n",
            "False\n",
            "True\n",
            "False\n",
            "False\n"
          ]
        }
      ]
    },
    {
      "cell_type": "code",
      "source": [
        "x = 10\n",
        "y = 20\n",
        "print(x>y)"
      ],
      "metadata": {
        "id": "OUtiVZ2Chk1B",
        "colab": {
          "base_uri": "https://localhost:8080/"
        },
        "outputId": "1dc2702b-bb7b-45d0-d439-42c752bb22e5"
      },
      "execution_count": null,
      "outputs": [
        {
          "output_type": "stream",
          "name": "stdout",
          "text": [
            "False\n"
          ]
        }
      ]
    },
    {
      "cell_type": "code",
      "source": [
        "x = True\n",
        "y = 120\n",
        "print(x*y)"
      ],
      "metadata": {
        "colab": {
          "base_uri": "https://localhost:8080/"
        },
        "id": "_ozumwZ8q4Au",
        "outputId": "2db353c9-ab97-489c-c4cd-f528556ea2c2"
      },
      "execution_count": null,
      "outputs": [
        {
          "output_type": "stream",
          "name": "stdout",
          "text": [
            "120\n"
          ]
        }
      ]
    },
    {
      "cell_type": "markdown",
      "source": [
        "#### string (texto)"
      ],
      "metadata": {
        "id": "3cHreVYLhzcH"
      }
    },
    {
      "cell_type": "markdown",
      "source": [
        "Un string es una secuencia de caracteres. Los textos o *strings* son un tipo de dato utilizado para guardar secuencias o cadenas de caracteres: letras, palabras, oraciones, texto, etc. Es lo que hemos estado utilizando hasta aquí en gran parte del código.\n",
        "\n",
        "Todo string se define siempre entre \" \", pudiendo estár dentro un número, una palabra o un espacio vacío."
      ],
      "metadata": {
        "id": "4NIXk7jLiHyZ"
      }
    },
    {
      "cell_type": "code",
      "source": [
        "nombre = \"Juan\"\n",
        "apellido = 'Lopez'\n",
        "\n",
        "nombre_completo = 'Juan \"El Mago\" Lopez'\n",
        "nombre_completo_2 = \"Juan 'El Mago' Lopez\"\n",
        "\n",
        "print(nombre)\n",
        "print(apellido)\n",
        "print(nombre_completo)\n",
        "print(nombre_completo_2)"
      ],
      "metadata": {
        "id": "vaLoK3WOh2EY",
        "colab": {
          "base_uri": "https://localhost:8080/"
        },
        "outputId": "74988774-5f82-42dd-ae70-0189612066ec"
      },
      "execution_count": null,
      "outputs": [
        {
          "output_type": "stream",
          "name": "stdout",
          "text": [
            "Juan\n",
            "Lopez\n",
            "Juan \"El Mago\" Lopez\n",
            "Juan 'El Mago' Lopez\n"
          ]
        }
      ]
    },
    {
      "cell_type": "code",
      "source": [
        "espacio_blanco = \"\" #Esto tambien es un string\n",
        "print(espacio_blanco)\n",
        "print(type(espacio_blanco))\n",
        "print(bool(espacio_blanco))\n",
        "none = None\n",
        "print(type(none))"
      ],
      "metadata": {
        "id": "At21kI5Gj3Lv",
        "colab": {
          "base_uri": "https://localhost:8080/"
        },
        "outputId": "1f967562-986d-4f82-d1e9-d9605f5186ce"
      },
      "execution_count": null,
      "outputs": [
        {
          "output_type": "stream",
          "name": "stdout",
          "text": [
            "\n",
            "<class 'str'>\n",
            "False\n",
            "<class 'NoneType'>\n"
          ]
        }
      ]
    },
    {
      "cell_type": "markdown",
      "source": [
        "#### Operaciones con Strings"
      ],
      "metadata": {
        "id": "DjrY962KaQGZ"
      }
    },
    {
      "cell_type": "markdown",
      "source": [
        "Para hablar de operaciones con strings, antes tenemos que hablar de los métodos (que ya los estuvimos utilizando anteriormente).\n",
        "\n",
        "* Los métodos, son funciones que están asociadas a un objeto (generalmente a una instancia de una clase). Se llaman \"métodos\" cuando se definen dentro de una clase y se utilizan para operar sobre los datos de esa clase (sus atributos).\n",
        "* Sin aprofundar demasiado, Python es un lenguaje orientado a objetos. Estos objetos son como \"Cajas prearmadas\" que contienen determinados atributos a los cuáles podemos acceder mediante funciones o métodos.\n",
        "* La clase str es una de ellas, y vamos a ver algunos de los métodos que contiene."
      ],
      "metadata": {
        "id": "0wfAfqxYcbg4"
      }
    },
    {
      "cell_type": "code",
      "source": [
        "Materia = \"Finanzas\""
      ],
      "metadata": {
        "id": "sPcv38muaScA"
      },
      "execution_count": null,
      "outputs": []
    },
    {
      "cell_type": "code",
      "source": [
        "len(Materia)"
      ],
      "metadata": {
        "id": "4Rsp-WKmeUOQ",
        "colab": {
          "base_uri": "https://localhost:8080/"
        },
        "outputId": "37873f46-dd96-4912-acf3-6e5a5d8c725d"
      },
      "execution_count": null,
      "outputs": [
        {
          "output_type": "execute_result",
          "data": {
            "text/plain": [
              "8"
            ]
          },
          "metadata": {},
          "execution_count": 26
        }
      ]
    },
    {
      "cell_type": "code",
      "source": [
        "print(Materia.lower())\n",
        "print(Materia.upper())"
      ],
      "metadata": {
        "id": "iM_u8TIPefAv",
        "colab": {
          "base_uri": "https://localhost:8080/"
        },
        "outputId": "92af1f51-70dd-442f-a1c1-50c0afcdb7e4"
      },
      "execution_count": null,
      "outputs": [
        {
          "output_type": "stream",
          "name": "stdout",
          "text": [
            "finanzas\n",
            "FINANZAS\n"
          ]
        }
      ]
    },
    {
      "cell_type": "code",
      "source": [
        "Materia.replace('z','s')"
      ],
      "metadata": {
        "id": "Mdd0BQ_BegSX",
        "colab": {
          "base_uri": "https://localhost:8080/",
          "height": 36
        },
        "outputId": "edd4c56b-9395-43a5-c416-cad95417a4df"
      },
      "execution_count": null,
      "outputs": [
        {
          "output_type": "execute_result",
          "data": {
            "text/plain": [
              "'Finansas'"
            ],
            "application/vnd.google.colaboratory.intrinsic+json": {
              "type": "string"
            }
          },
          "metadata": {},
          "execution_count": 28
        }
      ]
    },
    {
      "cell_type": "code",
      "source": [
        "print(Materia.startswith('F'))\n",
        "print(Materia.endswith('F'))"
      ],
      "metadata": {
        "id": "fstGgGIQeu3n",
        "colab": {
          "base_uri": "https://localhost:8080/"
        },
        "outputId": "47069b30-4a1a-40a4-94f1-2127bae4fcaf"
      },
      "execution_count": null,
      "outputs": [
        {
          "output_type": "stream",
          "name": "stdout",
          "text": [
            "True\n",
            "False\n"
          ]
        }
      ]
    },
    {
      "cell_type": "code",
      "source": [
        "Materia.split('F')[1]"
      ],
      "metadata": {
        "id": "HmON6R6Ge6Gf",
        "colab": {
          "base_uri": "https://localhost:8080/",
          "height": 36
        },
        "outputId": "767431df-1d07-4625-f716-c8359879c5a1"
      },
      "execution_count": null,
      "outputs": [
        {
          "output_type": "execute_result",
          "data": {
            "text/plain": [
              "'inanzas'"
            ],
            "application/vnd.google.colaboratory.intrinsic+json": {
              "type": "string"
            }
          },
          "metadata": {},
          "execution_count": 30
        }
      ]
    },
    {
      "cell_type": "code",
      "source": [
        "Materia = \"       FINANZAS\"\n",
        "Materia.strip()"
      ],
      "metadata": {
        "id": "dSy_KmoZfQpZ",
        "colab": {
          "base_uri": "https://localhost:8080/",
          "height": 36
        },
        "outputId": "920996eb-9ce0-4a0e-910c-8a6ac59d5744"
      },
      "execution_count": null,
      "outputs": [
        {
          "output_type": "execute_result",
          "data": {
            "text/plain": [
              "'FINANZAS'"
            ],
            "application/vnd.google.colaboratory.intrinsic+json": {
              "type": "string"
            }
          },
          "metadata": {},
          "execution_count": 31
        }
      ]
    },
    {
      "cell_type": "code",
      "source": [
        "print(Materia.find('FI'))\n",
        "print(Materia.find('NZ'))\n",
        "print(\"ZAS\" in Materia)"
      ],
      "metadata": {
        "colab": {
          "base_uri": "https://localhost:8080/"
        },
        "id": "YKc0-XhUgzWe",
        "outputId": "fa4f4784-7c5b-453f-b9e9-0b47b8e6d209"
      },
      "execution_count": null,
      "outputs": [
        {
          "output_type": "stream",
          "name": "stdout",
          "text": [
            "7\n",
            "11\n",
            "True\n"
          ]
        }
      ]
    },
    {
      "cell_type": "code",
      "source": [
        "print(Materia.strip()[0:6])\n",
        "print(Materia.strip()[-2])\n",
        "print(Materia.strip()[1])\n",
        "print(Materia.strip()[0:4:2]) #Con salto"
      ],
      "metadata": {
        "colab": {
          "base_uri": "https://localhost:8080/"
        },
        "id": "dphwYPc0hMcl",
        "outputId": "11a68b8d-88e0-433a-a71f-6435ebb54378"
      },
      "execution_count": null,
      "outputs": [
        {
          "output_type": "stream",
          "name": "stdout",
          "text": [
            "FINANZ\n",
            "A\n",
            "I\n",
            "FN\n"
          ]
        }
      ]
    },
    {
      "cell_type": "markdown",
      "source": [
        "Estos y cualquier otro método, se pueden encontrar mediante la función **`dir()`** y **`help()`** aplicandola a un determinado objeto o clase, en este caso, **str**"
      ],
      "metadata": {
        "id": "1fQZkHSsfQmH"
      }
    },
    {
      "cell_type": "code",
      "source": [
        "dir_str = dir(str)\n",
        "print(type(dir_str))\n",
        "dir_str[0:15]"
      ],
      "metadata": {
        "colab": {
          "base_uri": "https://localhost:8080/"
        },
        "id": "OMpdhLcpfep2",
        "outputId": "15b4cbdb-2621-44e6-b08c-cb6988a49649"
      },
      "execution_count": null,
      "outputs": [
        {
          "output_type": "stream",
          "name": "stdout",
          "text": [
            "<class 'list'>\n"
          ]
        },
        {
          "output_type": "execute_result",
          "data": {
            "text/plain": [
              "['__add__',\n",
              " '__class__',\n",
              " '__contains__',\n",
              " '__delattr__',\n",
              " '__dir__',\n",
              " '__doc__',\n",
              " '__eq__',\n",
              " '__format__',\n",
              " '__ge__',\n",
              " '__getattribute__',\n",
              " '__getitem__',\n",
              " '__getnewargs__',\n",
              " '__getstate__',\n",
              " '__gt__',\n",
              " '__hash__']"
            ]
          },
          "metadata": {},
          "execution_count": 34
        }
      ]
    },
    {
      "cell_type": "code",
      "source": [
        "help(str)"
      ],
      "metadata": {
        "colab": {
          "base_uri": "https://localhost:8080/"
        },
        "id": "hOnBcUuTfil9",
        "outputId": "23c5ddc3-e488-481a-906a-79b2e2ac75e4"
      },
      "execution_count": null,
      "outputs": [
        {
          "output_type": "stream",
          "name": "stdout",
          "text": [
            "Help on class str in module builtins:\n",
            "\n",
            "class str(object)\n",
            " |  str(object='') -> str\n",
            " |  str(bytes_or_buffer[, encoding[, errors]]) -> str\n",
            " |  \n",
            " |  Create a new string object from the given object. If encoding or\n",
            " |  errors is specified, then the object must expose a data buffer\n",
            " |  that will be decoded using the given encoding and error handler.\n",
            " |  Otherwise, returns the result of object.__str__() (if defined)\n",
            " |  or repr(object).\n",
            " |  encoding defaults to sys.getdefaultencoding().\n",
            " |  errors defaults to 'strict'.\n",
            " |  \n",
            " |  Methods defined here:\n",
            " |  \n",
            " |  __add__(self, value, /)\n",
            " |      Return self+value.\n",
            " |  \n",
            " |  __contains__(self, key, /)\n",
            " |      Return key in self.\n",
            " |  \n",
            " |  __eq__(self, value, /)\n",
            " |      Return self==value.\n",
            " |  \n",
            " |  __format__(self, format_spec, /)\n",
            " |      Return a formatted version of the string as described by format_spec.\n",
            " |  \n",
            " |  __ge__(self, value, /)\n",
            " |      Return self>=value.\n",
            " |  \n",
            " |  __getattribute__(self, name, /)\n",
            " |      Return getattr(self, name).\n",
            " |  \n",
            " |  __getitem__(self, key, /)\n",
            " |      Return self[key].\n",
            " |  \n",
            " |  __getnewargs__(...)\n",
            " |  \n",
            " |  __gt__(self, value, /)\n",
            " |      Return self>value.\n",
            " |  \n",
            " |  __hash__(self, /)\n",
            " |      Return hash(self).\n",
            " |  \n",
            " |  __iter__(self, /)\n",
            " |      Implement iter(self).\n",
            " |  \n",
            " |  __le__(self, value, /)\n",
            " |      Return self<=value.\n",
            " |  \n",
            " |  __len__(self, /)\n",
            " |      Return len(self).\n",
            " |  \n",
            " |  __lt__(self, value, /)\n",
            " |      Return self<value.\n",
            " |  \n",
            " |  __mod__(self, value, /)\n",
            " |      Return self%value.\n",
            " |  \n",
            " |  __mul__(self, value, /)\n",
            " |      Return self*value.\n",
            " |  \n",
            " |  __ne__(self, value, /)\n",
            " |      Return self!=value.\n",
            " |  \n",
            " |  __repr__(self, /)\n",
            " |      Return repr(self).\n",
            " |  \n",
            " |  __rmod__(self, value, /)\n",
            " |      Return value%self.\n",
            " |  \n",
            " |  __rmul__(self, value, /)\n",
            " |      Return value*self.\n",
            " |  \n",
            " |  __sizeof__(self, /)\n",
            " |      Return the size of the string in memory, in bytes.\n",
            " |  \n",
            " |  __str__(self, /)\n",
            " |      Return str(self).\n",
            " |  \n",
            " |  capitalize(self, /)\n",
            " |      Return a capitalized version of the string.\n",
            " |      \n",
            " |      More specifically, make the first character have upper case and the rest lower\n",
            " |      case.\n",
            " |  \n",
            " |  casefold(self, /)\n",
            " |      Return a version of the string suitable for caseless comparisons.\n",
            " |  \n",
            " |  center(self, width, fillchar=' ', /)\n",
            " |      Return a centered string of length width.\n",
            " |      \n",
            " |      Padding is done using the specified fill character (default is a space).\n",
            " |  \n",
            " |  count(...)\n",
            " |      S.count(sub[, start[, end]]) -> int\n",
            " |      \n",
            " |      Return the number of non-overlapping occurrences of substring sub in\n",
            " |      string S[start:end].  Optional arguments start and end are\n",
            " |      interpreted as in slice notation.\n",
            " |  \n",
            " |  encode(self, /, encoding='utf-8', errors='strict')\n",
            " |      Encode the string using the codec registered for encoding.\n",
            " |      \n",
            " |      encoding\n",
            " |        The encoding in which to encode the string.\n",
            " |      errors\n",
            " |        The error handling scheme to use for encoding errors.\n",
            " |        The default is 'strict' meaning that encoding errors raise a\n",
            " |        UnicodeEncodeError.  Other possible values are 'ignore', 'replace' and\n",
            " |        'xmlcharrefreplace' as well as any other name registered with\n",
            " |        codecs.register_error that can handle UnicodeEncodeErrors.\n",
            " |  \n",
            " |  endswith(...)\n",
            " |      S.endswith(suffix[, start[, end]]) -> bool\n",
            " |      \n",
            " |      Return True if S ends with the specified suffix, False otherwise.\n",
            " |      With optional start, test S beginning at that position.\n",
            " |      With optional end, stop comparing S at that position.\n",
            " |      suffix can also be a tuple of strings to try.\n",
            " |  \n",
            " |  expandtabs(self, /, tabsize=8)\n",
            " |      Return a copy where all tab characters are expanded using spaces.\n",
            " |      \n",
            " |      If tabsize is not given, a tab size of 8 characters is assumed.\n",
            " |  \n",
            " |  find(...)\n",
            " |      S.find(sub[, start[, end]]) -> int\n",
            " |      \n",
            " |      Return the lowest index in S where substring sub is found,\n",
            " |      such that sub is contained within S[start:end].  Optional\n",
            " |      arguments start and end are interpreted as in slice notation.\n",
            " |      \n",
            " |      Return -1 on failure.\n",
            " |  \n",
            " |  format(...)\n",
            " |      S.format(*args, **kwargs) -> str\n",
            " |      \n",
            " |      Return a formatted version of S, using substitutions from args and kwargs.\n",
            " |      The substitutions are identified by braces ('{' and '}').\n",
            " |  \n",
            " |  format_map(...)\n",
            " |      S.format_map(mapping) -> str\n",
            " |      \n",
            " |      Return a formatted version of S, using substitutions from mapping.\n",
            " |      The substitutions are identified by braces ('{' and '}').\n",
            " |  \n",
            " |  index(...)\n",
            " |      S.index(sub[, start[, end]]) -> int\n",
            " |      \n",
            " |      Return the lowest index in S where substring sub is found,\n",
            " |      such that sub is contained within S[start:end].  Optional\n",
            " |      arguments start and end are interpreted as in slice notation.\n",
            " |      \n",
            " |      Raises ValueError when the substring is not found.\n",
            " |  \n",
            " |  isalnum(self, /)\n",
            " |      Return True if the string is an alpha-numeric string, False otherwise.\n",
            " |      \n",
            " |      A string is alpha-numeric if all characters in the string are alpha-numeric and\n",
            " |      there is at least one character in the string.\n",
            " |  \n",
            " |  isalpha(self, /)\n",
            " |      Return True if the string is an alphabetic string, False otherwise.\n",
            " |      \n",
            " |      A string is alphabetic if all characters in the string are alphabetic and there\n",
            " |      is at least one character in the string.\n",
            " |  \n",
            " |  isascii(self, /)\n",
            " |      Return True if all characters in the string are ASCII, False otherwise.\n",
            " |      \n",
            " |      ASCII characters have code points in the range U+0000-U+007F.\n",
            " |      Empty string is ASCII too.\n",
            " |  \n",
            " |  isdecimal(self, /)\n",
            " |      Return True if the string is a decimal string, False otherwise.\n",
            " |      \n",
            " |      A string is a decimal string if all characters in the string are decimal and\n",
            " |      there is at least one character in the string.\n",
            " |  \n",
            " |  isdigit(self, /)\n",
            " |      Return True if the string is a digit string, False otherwise.\n",
            " |      \n",
            " |      A string is a digit string if all characters in the string are digits and there\n",
            " |      is at least one character in the string.\n",
            " |  \n",
            " |  isidentifier(self, /)\n",
            " |      Return True if the string is a valid Python identifier, False otherwise.\n",
            " |      \n",
            " |      Call keyword.iskeyword(s) to test whether string s is a reserved identifier,\n",
            " |      such as \"def\" or \"class\".\n",
            " |  \n",
            " |  islower(self, /)\n",
            " |      Return True if the string is a lowercase string, False otherwise.\n",
            " |      \n",
            " |      A string is lowercase if all cased characters in the string are lowercase and\n",
            " |      there is at least one cased character in the string.\n",
            " |  \n",
            " |  isnumeric(self, /)\n",
            " |      Return True if the string is a numeric string, False otherwise.\n",
            " |      \n",
            " |      A string is numeric if all characters in the string are numeric and there is at\n",
            " |      least one character in the string.\n",
            " |  \n",
            " |  isprintable(self, /)\n",
            " |      Return True if the string is printable, False otherwise.\n",
            " |      \n",
            " |      A string is printable if all of its characters are considered printable in\n",
            " |      repr() or if it is empty.\n",
            " |  \n",
            " |  isspace(self, /)\n",
            " |      Return True if the string is a whitespace string, False otherwise.\n",
            " |      \n",
            " |      A string is whitespace if all characters in the string are whitespace and there\n",
            " |      is at least one character in the string.\n",
            " |  \n",
            " |  istitle(self, /)\n",
            " |      Return True if the string is a title-cased string, False otherwise.\n",
            " |      \n",
            " |      In a title-cased string, upper- and title-case characters may only\n",
            " |      follow uncased characters and lowercase characters only cased ones.\n",
            " |  \n",
            " |  isupper(self, /)\n",
            " |      Return True if the string is an uppercase string, False otherwise.\n",
            " |      \n",
            " |      A string is uppercase if all cased characters in the string are uppercase and\n",
            " |      there is at least one cased character in the string.\n",
            " |  \n",
            " |  join(self, iterable, /)\n",
            " |      Concatenate any number of strings.\n",
            " |      \n",
            " |      The string whose method is called is inserted in between each given string.\n",
            " |      The result is returned as a new string.\n",
            " |      \n",
            " |      Example: '.'.join(['ab', 'pq', 'rs']) -> 'ab.pq.rs'\n",
            " |  \n",
            " |  ljust(self, width, fillchar=' ', /)\n",
            " |      Return a left-justified string of length width.\n",
            " |      \n",
            " |      Padding is done using the specified fill character (default is a space).\n",
            " |  \n",
            " |  lower(self, /)\n",
            " |      Return a copy of the string converted to lowercase.\n",
            " |  \n",
            " |  lstrip(self, chars=None, /)\n",
            " |      Return a copy of the string with leading whitespace removed.\n",
            " |      \n",
            " |      If chars is given and not None, remove characters in chars instead.\n",
            " |  \n",
            " |  partition(self, sep, /)\n",
            " |      Partition the string into three parts using the given separator.\n",
            " |      \n",
            " |      This will search for the separator in the string.  If the separator is found,\n",
            " |      returns a 3-tuple containing the part before the separator, the separator\n",
            " |      itself, and the part after it.\n",
            " |      \n",
            " |      If the separator is not found, returns a 3-tuple containing the original string\n",
            " |      and two empty strings.\n",
            " |  \n",
            " |  removeprefix(self, prefix, /)\n",
            " |      Return a str with the given prefix string removed if present.\n",
            " |      \n",
            " |      If the string starts with the prefix string, return string[len(prefix):].\n",
            " |      Otherwise, return a copy of the original string.\n",
            " |  \n",
            " |  removesuffix(self, suffix, /)\n",
            " |      Return a str with the given suffix string removed if present.\n",
            " |      \n",
            " |      If the string ends with the suffix string and that suffix is not empty,\n",
            " |      return string[:-len(suffix)]. Otherwise, return a copy of the original\n",
            " |      string.\n",
            " |  \n",
            " |  replace(self, old, new, count=-1, /)\n",
            " |      Return a copy with all occurrences of substring old replaced by new.\n",
            " |      \n",
            " |        count\n",
            " |          Maximum number of occurrences to replace.\n",
            " |          -1 (the default value) means replace all occurrences.\n",
            " |      \n",
            " |      If the optional argument count is given, only the first count occurrences are\n",
            " |      replaced.\n",
            " |  \n",
            " |  rfind(...)\n",
            " |      S.rfind(sub[, start[, end]]) -> int\n",
            " |      \n",
            " |      Return the highest index in S where substring sub is found,\n",
            " |      such that sub is contained within S[start:end].  Optional\n",
            " |      arguments start and end are interpreted as in slice notation.\n",
            " |      \n",
            " |      Return -1 on failure.\n",
            " |  \n",
            " |  rindex(...)\n",
            " |      S.rindex(sub[, start[, end]]) -> int\n",
            " |      \n",
            " |      Return the highest index in S where substring sub is found,\n",
            " |      such that sub is contained within S[start:end].  Optional\n",
            " |      arguments start and end are interpreted as in slice notation.\n",
            " |      \n",
            " |      Raises ValueError when the substring is not found.\n",
            " |  \n",
            " |  rjust(self, width, fillchar=' ', /)\n",
            " |      Return a right-justified string of length width.\n",
            " |      \n",
            " |      Padding is done using the specified fill character (default is a space).\n",
            " |  \n",
            " |  rpartition(self, sep, /)\n",
            " |      Partition the string into three parts using the given separator.\n",
            " |      \n",
            " |      This will search for the separator in the string, starting at the end. If\n",
            " |      the separator is found, returns a 3-tuple containing the part before the\n",
            " |      separator, the separator itself, and the part after it.\n",
            " |      \n",
            " |      If the separator is not found, returns a 3-tuple containing two empty strings\n",
            " |      and the original string.\n",
            " |  \n",
            " |  rsplit(self, /, sep=None, maxsplit=-1)\n",
            " |      Return a list of the substrings in the string, using sep as the separator string.\n",
            " |      \n",
            " |        sep\n",
            " |          The separator used to split the string.\n",
            " |      \n",
            " |          When set to None (the default value), will split on any whitespace\n",
            " |          character (including \\n \\r \\t \\f and spaces) and will discard\n",
            " |          empty strings from the result.\n",
            " |        maxsplit\n",
            " |          Maximum number of splits.\n",
            " |          -1 (the default value) means no limit.\n",
            " |      \n",
            " |      Splitting starts at the end of the string and works to the front.\n",
            " |  \n",
            " |  rstrip(self, chars=None, /)\n",
            " |      Return a copy of the string with trailing whitespace removed.\n",
            " |      \n",
            " |      If chars is given and not None, remove characters in chars instead.\n",
            " |  \n",
            " |  split(self, /, sep=None, maxsplit=-1)\n",
            " |      Return a list of the substrings in the string, using sep as the separator string.\n",
            " |      \n",
            " |        sep\n",
            " |          The separator used to split the string.\n",
            " |      \n",
            " |          When set to None (the default value), will split on any whitespace\n",
            " |          character (including \\n \\r \\t \\f and spaces) and will discard\n",
            " |          empty strings from the result.\n",
            " |        maxsplit\n",
            " |          Maximum number of splits.\n",
            " |          -1 (the default value) means no limit.\n",
            " |      \n",
            " |      Splitting starts at the front of the string and works to the end.\n",
            " |      \n",
            " |      Note, str.split() is mainly useful for data that has been intentionally\n",
            " |      delimited.  With natural text that includes punctuation, consider using\n",
            " |      the regular expression module.\n",
            " |  \n",
            " |  splitlines(self, /, keepends=False)\n",
            " |      Return a list of the lines in the string, breaking at line boundaries.\n",
            " |      \n",
            " |      Line breaks are not included in the resulting list unless keepends is given and\n",
            " |      true.\n",
            " |  \n",
            " |  startswith(...)\n",
            " |      S.startswith(prefix[, start[, end]]) -> bool\n",
            " |      \n",
            " |      Return True if S starts with the specified prefix, False otherwise.\n",
            " |      With optional start, test S beginning at that position.\n",
            " |      With optional end, stop comparing S at that position.\n",
            " |      prefix can also be a tuple of strings to try.\n",
            " |  \n",
            " |  strip(self, chars=None, /)\n",
            " |      Return a copy of the string with leading and trailing whitespace removed.\n",
            " |      \n",
            " |      If chars is given and not None, remove characters in chars instead.\n",
            " |  \n",
            " |  swapcase(self, /)\n",
            " |      Convert uppercase characters to lowercase and lowercase characters to uppercase.\n",
            " |  \n",
            " |  title(self, /)\n",
            " |      Return a version of the string where each word is titlecased.\n",
            " |      \n",
            " |      More specifically, words start with uppercased characters and all remaining\n",
            " |      cased characters have lower case.\n",
            " |  \n",
            " |  translate(self, table, /)\n",
            " |      Replace each character in the string using the given translation table.\n",
            " |      \n",
            " |        table\n",
            " |          Translation table, which must be a mapping of Unicode ordinals to\n",
            " |          Unicode ordinals, strings, or None.\n",
            " |      \n",
            " |      The table must implement lookup/indexing via __getitem__, for instance a\n",
            " |      dictionary or list.  If this operation raises LookupError, the character is\n",
            " |      left untouched.  Characters mapped to None are deleted.\n",
            " |  \n",
            " |  upper(self, /)\n",
            " |      Return a copy of the string converted to uppercase.\n",
            " |  \n",
            " |  zfill(self, width, /)\n",
            " |      Pad a numeric string with zeros on the left, to fill a field of the given width.\n",
            " |      \n",
            " |      The string is never truncated.\n",
            " |  \n",
            " |  ----------------------------------------------------------------------\n",
            " |  Static methods defined here:\n",
            " |  \n",
            " |  __new__(*args, **kwargs)\n",
            " |      Create and return a new object.  See help(type) for accurate signature.\n",
            " |  \n",
            " |  maketrans(...)\n",
            " |      Return a translation table usable for str.translate().\n",
            " |      \n",
            " |      If there is only one argument, it must be a dictionary mapping Unicode\n",
            " |      ordinals (integers) or characters to Unicode ordinals, strings or None.\n",
            " |      Character keys will be then converted to ordinals.\n",
            " |      If there are two arguments, they must be strings of equal length, and\n",
            " |      in the resulting dictionary, each character in x will be mapped to the\n",
            " |      character at the same position in y. If there is a third argument, it\n",
            " |      must be a string, whose characters will be mapped to None in the result.\n",
            "\n"
          ]
        }
      ]
    },
    {
      "cell_type": "markdown",
      "source": [
        "#### Operaciones entre variables numéricas"
      ],
      "metadata": {
        "id": "8TmXMIrTjlaC"
      }
    },
    {
      "cell_type": "markdown",
      "source": [
        "Entre los distintos tipos de variables numéricas vistas, podemos hacer operaciones, sean de comparación como tambien aritmeticas. Veamos algunas de ellas:\n",
        "\n",
        "*   Menor que ( $a < b$ ):\n",
        "\n",
        " `a < b`\n",
        "\n",
        "*   Mayor que ( $a > b$ ):\n",
        "\n",
        " `a > b`\n",
        "\n",
        "*   Menor o igual que ( $a \\leq b$ ):\n",
        "\n",
        " `a <= b`\n",
        "\n",
        "*   Mayor o igual que ( $a \\geq b$ ):\n",
        "\n",
        " `a >= b`\n",
        "\n",
        "*   Es igual ( $a = b$ ):\n",
        "\n",
        " `a == b` (Ojo: se utilizan 2 símbolos `=` para diferenciarse del operador asignación)\n",
        "\n",
        "*   Es distinto ( $a \\neq b$ ):\n",
        "\n",
        " `a != b`\n",
        "\n",
        "\n",
        "Al comprarar dos números, se obtiene **`True`** o **`False`** (Verdadero o Falso,booleanos) según si se cumple o no la condición establecida:"
      ],
      "metadata": {
        "id": "GAuv896ekL9e"
      }
    },
    {
      "cell_type": "code",
      "source": [
        "x = 4.0\n",
        "print(\"Es x mayor o igual a 4?\", x >= 4)\n",
        "print(\"Es x igual a 3?\", x == 3)\n",
        "print(\"Es x distinto a 3?\", x != 3)\n",
        "print(\"Es x menor a 3?\", x < 3)"
      ],
      "metadata": {
        "id": "8qQPuqXCk0K_",
        "colab": {
          "base_uri": "https://localhost:8080/"
        },
        "outputId": "1491ae03-6ece-4b7e-aa19-f64294bbf007"
      },
      "execution_count": null,
      "outputs": [
        {
          "output_type": "stream",
          "name": "stdout",
          "text": [
            "Es x mayor o igual a 4? True\n",
            "Es x igual a 3? False\n",
            "Es x distinto a 3? True\n",
            "Es x menor a 3? False\n"
          ]
        }
      ]
    },
    {
      "cell_type": "markdown",
      "source": [
        "También se pueden combinar diversas condiciones:\n",
        "\n",
        "*  Si se cumplen las dos condiciones ( $a \\land b$ ):\n",
        "\n",
        "  `a and b`\n",
        "\n",
        "*  Si se cumple alguna de las condiciones ( $ a \\lor b$ ):\n",
        "\n",
        "  `a or b`\n",
        "\n",
        "*  Si no se cumple esa condición ( $ \\overline{a} $ ):\n",
        "\n",
        "  `not a`\n",
        "\n",
        "La lógica símbolica será nuestra aliada a la hora de programar. No es necesario estudiarla formalmente pero si es necesario entender como funcionan una serie de instrucciones lógicas en Python para conseguir programar de manera eficaz. Estas tambien son muy útiles en tipos de dato string"
      ],
      "metadata": {
        "id": "K8B8zML0lobE"
      }
    },
    {
      "cell_type": "code",
      "source": [
        "ciudad = \"Buenos Aires\"\n",
        "pais = \"Argentina\"\n",
        "continente = \"América del Sur\"\n",
        "\n",
        "#Chequeamos condición and\n",
        "condicion_and = (ciudad == \"Buenos Aires\") and (pais == \"Argentina\")\n",
        "print(f\"¿Es la ciudad Buenos Aires y el país Argentina? {condicion_and}\")\n",
        "\n",
        "#Chequeamos condición or\n",
        "condicion_or = (ciudad == \"Buenos Aires\") or (continente == \"Europa\")\n",
        "print(f\"¿Es la ciudad Buenos Aires o el continente Europa? {condicion_or}\")\n",
        "\n",
        "#Chequeamos condición not\n",
        "condicion_not = not (ciudad == \"Londres\")\n",
        "print(f\"¿No es la ciudad Londres? {condicion_not}\")\n",
        "\n",
        "condicion_combinada = (pais == \"Argentina\") and ((ciudad == \"Buenos Aires\") or (continente == \"América del Norte\"))\n",
        "print(f\"¿Es el país Argentina y (la ciudad es Buenos Aires o el continente América del Norte)? {condicion_combinada}\")"
      ],
      "metadata": {
        "colab": {
          "base_uri": "https://localhost:8080/"
        },
        "id": "3-K57BSWt1qp",
        "outputId": "acbcbb29-608c-43aa-e802-69235eac6c98"
      },
      "execution_count": null,
      "outputs": [
        {
          "output_type": "stream",
          "name": "stdout",
          "text": [
            "¿Es la ciudad Buenos Aires y el país Argentina? True\n",
            "¿Es la ciudad Buenos Aires o el continente Europa? True\n",
            "¿No es la ciudad Londres? True\n",
            "¿Es el país Argentina y (la ciudad es Buenos Aires o el continente América del Norte)? True\n"
          ]
        }
      ]
    },
    {
      "cell_type": "code",
      "source": [
        "x = 4\n",
        "\n",
        "y = x > 5 and x < 7 # Equivalente a (x > 5) & (x < 7)\n",
        "z = x > 5 or x < 7 # Equivalente a (x > 5) | (x < 7)\n",
        "k = not x > 5\n",
        "\n",
        "print(\"x > 5 y x < 7?\", y)\n",
        "print(\"x > 5 o x < 7?\", z)\n",
        "print(\"Es x NO mayor a 5?\", k)"
      ],
      "metadata": {
        "id": "l_6_wiEylsmW",
        "colab": {
          "base_uri": "https://localhost:8080/"
        },
        "outputId": "90f3c25d-3fa1-42f8-e3a3-694ddffdb927"
      },
      "execution_count": null,
      "outputs": [
        {
          "output_type": "stream",
          "name": "stdout",
          "text": [
            "x > 5 y x < 7? False\n",
            "x > 5 o x < 7? True\n",
            "Es x NO mayor a 5? True\n"
          ]
        }
      ]
    },
    {
      "cell_type": "markdown",
      "source": [
        "En cuanto a operaciones de modificación ya vimos algunas, pero podemos hacer un repaso:\n",
        "\n",
        "*   `a+b`\n",
        "*   `a-b`\n",
        "*   `a*b`\n",
        "*   `a/b`\n",
        "*   `a += b`\n",
        "*   `a -= b`\n",
        "*   `a *= b`\n",
        "*   `a /= b`\n",
        "*   `a = b`\n",
        "*   `a ** b`"
      ],
      "metadata": {
        "id": "FCkKSMW2mh2P"
      }
    },
    {
      "cell_type": "markdown",
      "source": [
        "¿Qué sucede cuando le aplicamos alguna de esas operaciones a un objeto tipo string? En algunos casos tienen sentido, pero en otros no..."
      ],
      "metadata": {
        "id": "DCQxcayJm-5A"
      }
    },
    {
      "cell_type": "code",
      "source": [
        "x = 'Llueve'\n",
        "y = ' Fuerte'\n",
        "print(x + y)"
      ],
      "metadata": {
        "id": "GZz7Zm1DnDSK",
        "colab": {
          "base_uri": "https://localhost:8080/"
        },
        "outputId": "313f1a65-33f6-40b7-ba90-72a7222d2ee7"
      },
      "execution_count": null,
      "outputs": [
        {
          "output_type": "stream",
          "name": "stdout",
          "text": [
            "Llueve Fuerte\n"
          ]
        }
      ]
    },
    {
      "cell_type": "code",
      "source": [
        "x = 'yeah '\n",
        "print(x * 2)\n",
        "print(x * 4)"
      ],
      "metadata": {
        "id": "f3W4lMvOnKfF",
        "colab": {
          "base_uri": "https://localhost:8080/"
        },
        "outputId": "a2955aae-2057-4daf-970d-834ce425ce3b"
      },
      "execution_count": null,
      "outputs": [
        {
          "output_type": "stream",
          "name": "stdout",
          "text": [
            "yeah yeah \n",
            "yeah yeah yeah yeah \n"
          ]
        }
      ]
    },
    {
      "cell_type": "code",
      "source": [
        "x = 'kn'\n",
        "y = 'ock'\n",
        "z = ', '\n",
        "print((x + y + z) * 3)\n",
        "print(x + y + z * 3)"
      ],
      "metadata": {
        "id": "00NLd0iqnL4T",
        "colab": {
          "base_uri": "https://localhost:8080/"
        },
        "outputId": "b85161d1-9d22-46ce-a610-fbb1ef035ed5"
      },
      "execution_count": null,
      "outputs": [
        {
          "output_type": "stream",
          "name": "stdout",
          "text": [
            "knock, knock, knock, \n",
            "knock, , , \n"
          ]
        }
      ]
    },
    {
      "cell_type": "markdown",
      "source": [
        "Ojo con los tipos..."
      ],
      "metadata": {
        "id": "UZa7tcrunyy0"
      }
    },
    {
      "cell_type": "code",
      "source": [
        "a = 10\n",
        "b = '20'\n",
        "print(str(a)+b) # No puedo sumar algo que es string con algo que es int\n",
        "print(a+b) # No puedo sumar algo que es string con algo que es int"
      ],
      "metadata": {
        "id": "fzxoXHqrns7S",
        "colab": {
          "base_uri": "https://localhost:8080/",
          "height": 193
        },
        "outputId": "277482dd-5d9c-41b2-e7f9-22ca2076293b"
      },
      "execution_count": null,
      "outputs": [
        {
          "output_type": "stream",
          "name": "stdout",
          "text": [
            "1020\n"
          ]
        },
        {
          "output_type": "error",
          "ename": "TypeError",
          "evalue": "unsupported operand type(s) for +: 'int' and 'str'",
          "traceback": [
            "\u001b[0;31m---------------------------------------------------------------------------\u001b[0m",
            "\u001b[0;31mTypeError\u001b[0m                                 Traceback (most recent call last)",
            "\u001b[0;32m<ipython-input-42-4d3c7e6096d5>\u001b[0m in \u001b[0;36m<cell line: 0>\u001b[0;34m()\u001b[0m\n\u001b[1;32m      2\u001b[0m \u001b[0mb\u001b[0m \u001b[0;34m=\u001b[0m \u001b[0;34m'20'\u001b[0m\u001b[0;34m\u001b[0m\u001b[0;34m\u001b[0m\u001b[0m\n\u001b[1;32m      3\u001b[0m \u001b[0mprint\u001b[0m\u001b[0;34m(\u001b[0m\u001b[0mstr\u001b[0m\u001b[0;34m(\u001b[0m\u001b[0ma\u001b[0m\u001b[0;34m)\u001b[0m\u001b[0;34m+\u001b[0m\u001b[0mb\u001b[0m\u001b[0;34m)\u001b[0m \u001b[0;31m# No puedo sumar algo que es string con algo que es int\u001b[0m\u001b[0;34m\u001b[0m\u001b[0;34m\u001b[0m\u001b[0m\n\u001b[0;32m----> 4\u001b[0;31m \u001b[0mprint\u001b[0m\u001b[0;34m(\u001b[0m\u001b[0ma\u001b[0m\u001b[0;34m+\u001b[0m\u001b[0mb\u001b[0m\u001b[0;34m)\u001b[0m \u001b[0;31m# No puedo sumar algo que es string con algo que es int\u001b[0m\u001b[0;34m\u001b[0m\u001b[0;34m\u001b[0m\u001b[0m\n\u001b[0m",
            "\u001b[0;31mTypeError\u001b[0m: unsupported operand type(s) for +: 'int' and 'str'"
          ]
        }
      ]
    },
    {
      "cell_type": "markdown",
      "source": [
        "### Orden de Evaluación y Precedencia de Operadores Aritméticos y Lógicos"
      ],
      "metadata": {
        "id": "QgDzvxoEYfgi"
      }
    },
    {
      "cell_type": "markdown",
      "source": [
        "Python evalua expresiones de izquierda a derecha y separa por términos como nosotros, excepto que usemos paréntesis.\n",
        "\n",
        "¿Cómo será la separación en términos para operaciones lógicas?\n",
        "\n",
        "<p align=\"center\">\n",
        "<img\n",
        "     src=\"https://lh5.googleusercontent.com/-RV4ZNzB5qvU/TeSJEIHEeSI/AAAAAAAAAJ0/-JVpFJBnxHs/CU00133A_1.png\"\n",
        "     alt=\"pypl\"\n",
        "     width=40%\n",
        "     height=40%>\n",
        "</p>"
      ],
      "metadata": {
        "id": "8vCFzPZFYhUQ"
      }
    },
    {
      "cell_type": "code",
      "source": [
        "print(1 / (2 + 3))\n",
        "print(1 / 2 + 3)\n",
        "print(1 / 2 * 3)\n",
        "print(1 / (2 * 3))\n",
        "print(1 ** 2 * 3)\n",
        "print(1 * 2 ** 3)\n",
        "print(True or False and False)\n",
        "print((True or False) and False)"
      ],
      "metadata": {
        "id": "IMhbgrWFYitw"
      },
      "execution_count": null,
      "outputs": []
    },
    {
      "cell_type": "markdown",
      "source": [
        "## Colecciones de datos"
      ],
      "metadata": {
        "id": "yX37eiqrgGev"
      }
    },
    {
      "cell_type": "markdown",
      "source": [
        "<p align=\"center\">\n",
        "<img\n",
        "     src=\"https://drive.google.com/uc?export=view&id=1e702vfKk9rYDPvvXC-Fcj649FznYsn9R\"\n",
        "     alt=\"pypl\"\n",
        "     width=40%\n",
        "     height=40%>\n",
        "</p>\n",
        "\n",
        "Las colecciones de datos son tipos de datos pensados para guardar \"conjuntos de datos\", de cualquier tipo. Nos permiten organizar la información de manera más efectiva, facilitando la modificación, navegación y el acceso a la información. Existen distintos tipos de colecciones de datos:\n",
        "\n",
        "1.   **De tipo vectorial / array:**\n",
        "  *   Listas\n",
        "  *   Tuplas\n",
        "  *   Sets\n",
        "2.   **De clave / valor:**\n",
        "  *   Diccionarios"
      ],
      "metadata": {
        "id": "-jDSdWxRgIig"
      }
    },
    {
      "cell_type": "markdown",
      "source": [
        "#### Listas\n",
        "\n",
        "<p align=\"center\">\n",
        "<img\n",
        "     src=\"https://drive.google.com/uc?export=view&id=1_mzJ6kw0ZHJfErCInWMZIZL-NEWabl-e\"\n",
        "     alt=\"pypl\"\n",
        "     width=40%\n",
        "     height=40%>\n",
        "</p>"
      ],
      "metadata": {
        "id": "z2j50xP2h-D_"
      }
    },
    {
      "cell_type": "markdown",
      "source": [
        "Una **lista** es una colección ordenada de valores que pueden ser de cualquier tipo. Se las define entre [] y los valores dentro van separados entre \",\". Tambien, puede ser creada utilanzo la clase list().Nos permiten almacenar elementos de manera secuencial, que pueden ser accedidos mediante su posición dentro de la lista. Ejemplo:\n",
        "\n",
        "> a = **[** $ a_{0}, a_{1}, a_{2}, \\dots $ **]**\n",
        "\n",
        "Adicionalmente, las listas pueden contener datos de más de un tipo, incuso una lista puede contener a otra.\n",
        "Veamos algunos ejemplos:"
      ],
      "metadata": {
        "id": "HA90DxrYhhb3"
      }
    },
    {
      "cell_type": "code",
      "source": [
        "mi_lista = [1,2,3,4,'Juan','Martin','Delpotro','True',['$125','140']]\n",
        "mi_lista"
      ],
      "metadata": {
        "id": "OO_GptJghdIu"
      },
      "execution_count": null,
      "outputs": []
    },
    {
      "cell_type": "code",
      "source": [
        "mi_lista = list([1,2,3,4,'Juan','Martin','Delpotro',True])\n",
        "mi_lista"
      ],
      "metadata": {
        "id": "MjDAL9uIiTgu"
      },
      "execution_count": null,
      "outputs": []
    },
    {
      "cell_type": "code",
      "source": [
        "type(mi_lista)"
      ],
      "metadata": {
        "id": "_fn1QhDWi0wP"
      },
      "execution_count": null,
      "outputs": []
    },
    {
      "cell_type": "markdown",
      "source": [
        "Dijimos que estas colecciones o \"contenedores\" nos facilitan la navegación, entonces, ¿cómo podemos ver los datos que contienen y acceder a ellos? \\\n",
        "Todos los elementos de una lista contienen un índice que hace referencia a ellos por posicón, comenzando siempre con el 0 como posición inicial. Esto nos permite hacer \"**slicing**\" sobre una lista."
      ],
      "metadata": {
        "id": "2bTfznZgi7an"
      }
    },
    {
      "cell_type": "code",
      "source": [
        "print(mi_lista[0])\n",
        "print(type(mi_lista[0]))"
      ],
      "metadata": {
        "id": "uwCJkzMni5NJ"
      },
      "execution_count": null,
      "outputs": []
    },
    {
      "cell_type": "code",
      "source": [
        "print(mi_lista[-1])\n",
        "print(type(mi_lista[-1]))"
      ],
      "metadata": {
        "id": "3wgZ4u0gjnFn"
      },
      "execution_count": null,
      "outputs": []
    },
    {
      "cell_type": "markdown",
      "source": [
        "Conectando con el concepto de variables, podemos ahora crear una variable que tome como valor el primer elemento de una lista o cualquiera de ellos"
      ],
      "metadata": {
        "id": "m5gWgUmHwBSk"
      }
    },
    {
      "cell_type": "code",
      "source": [
        "nombre = mi_lista[4]\n",
        "print(nombre)"
      ],
      "metadata": {
        "id": "fpbdmyScwL2e"
      },
      "execution_count": null,
      "outputs": []
    },
    {
      "cell_type": "markdown",
      "source": [
        "El slicing en una lista nos permite \"agarrar\" un rango de valores defininendo el DESDE (inclusive) y el HASTA (excluido). Ello lo vamos a hacer siempre operando entre corchetes y accediendo a la posición o índice de los elementos."
      ],
      "metadata": {
        "id": "EjCntbeij1LO"
      }
    },
    {
      "cell_type": "code",
      "source": [
        "tickets  = ['ALUA','BYMA','GGAL','CEPU','COME','CRES']\n",
        "print(tickets[1:4])\n",
        "print(tickets[0:3])\n",
        "print(tickets[:2])\n",
        "print(tickets[5:])\n",
        "print(tickets[:])\n",
        "print(tickets[-3:])\n",
        "print(tickets[-3:-1])"
      ],
      "metadata": {
        "id": "UGpHGSpBkHZ_"
      },
      "execution_count": null,
      "outputs": []
    },
    {
      "cell_type": "markdown",
      "source": [
        "Tambien, podemos hacer un slicing con pasos, que por default será de 1. Supongamos que tenemos los precios de cierre de una acción por día, comenzando por Lunes y queremos obtener todos los cierres de los Lunes."
      ],
      "metadata": {
        "id": "okiTvtXQk8Xe"
      }
    },
    {
      "cell_type": "code",
      "source": [
        "cierres = [100, 101, 102, 98, 97, 99, 100, 103, 105, 106, 107, 110, 111, 109]\n",
        "lunes = cierres[0::7] #Añadimos los 7 pasos\n",
        "lunes"
      ],
      "metadata": {
        "id": "Leo6n_9NlBIQ"
      },
      "execution_count": null,
      "outputs": []
    },
    {
      "cell_type": "markdown",
      "source": [
        "Por último, podemos acceder al índice de un elemento y cambiar su valor de la siguiente manera:"
      ],
      "metadata": {
        "id": "R3sSDeVUl0rY"
      }
    },
    {
      "cell_type": "code",
      "source": [
        "tickets[0] = 'YPF'\n",
        "tickets"
      ],
      "metadata": {
        "id": "lFENLBjIl6Pm"
      },
      "execution_count": null,
      "outputs": []
    },
    {
      "cell_type": "markdown",
      "source": [
        "Como mencionamos anteriormente, las listas tienen muchos métodos (built-in functions) que nos permiten trabajar con ellas de una manera cómoda. Veamos algunos de ellos:"
      ],
      "metadata": {
        "id": "OQ9PZlXfuJfW"
      }
    },
    {
      "cell_type": "markdown",
      "metadata": {
        "id": "fuThRuW5yxZ-"
      },
      "source": [
        "* **n * lista**: Podemos multiplicar una lista por un número entero, para repetir n veces la lista."
      ]
    },
    {
      "cell_type": "code",
      "metadata": {
        "id": "zR-Sv9IwzAIh"
      },
      "source": [
        "n = 6\n",
        "a = [\"Clase Jueves 18:30hs\"]\n",
        "z = a*n #a+a\n",
        "print(z)"
      ],
      "execution_count": null,
      "outputs": []
    },
    {
      "cell_type": "markdown",
      "metadata": {
        "id": "EomkxLecMMj3"
      },
      "source": [
        "- **len**(): Obtiene el largo de una lista."
      ]
    },
    {
      "cell_type": "code",
      "metadata": {
        "id": "4tCnGdcTMTvz"
      },
      "source": [
        "a = [1,2,3,4]\n",
        "print(len(a))"
      ],
      "execution_count": null,
      "outputs": []
    },
    {
      "cell_type": "markdown",
      "metadata": {
        "id": "DsZxDU1wVuuv"
      },
      "source": [
        "- **.sort**(): Ordena los elementos de la lista."
      ]
    },
    {
      "cell_type": "code",
      "metadata": {
        "id": "xSqtP2NxV-SY"
      },
      "source": [
        "a = [\"LUNES\", \"MARTES\", \"MIÉRCOLES\", \"JUEVES\" ]\n",
        "a.sort()\n",
        "print(a)\n",
        "\n",
        "b = [1, 2, 3, 123, 23, 12]\n",
        "b.sort()\n",
        "print(b)\n",
        "\n",
        "# Es posible hacer un orden inverso indicando reverse=True\n",
        "b.sort(reverse=True)\n",
        "print(b)"
      ],
      "execution_count": null,
      "outputs": []
    },
    {
      "cell_type": "markdown",
      "metadata": {
        "id": "4hht8kbW3Qvv"
      },
      "source": [
        "- **.append**(): Permite agregar un elemento al final de la lista."
      ]
    },
    {
      "cell_type": "code",
      "metadata": {
        "id": "v3puF40n1ciS"
      },
      "source": [
        "mis_posiciones =  ['GGAL', 'YPF', 'BMA', 'BBAR', 'FRAN', 'LOMA']\n",
        "print(mis_posiciones)\n",
        "mis_posiciones.append(\"BYMA\")\n",
        "print(mis_posiciones)"
      ],
      "execution_count": null,
      "outputs": []
    },
    {
      "cell_type": "markdown",
      "metadata": {
        "id": "kSMm3FS5a4fN"
      },
      "source": [
        "- **.extend**(): Permite agregar elementos de una lista al final de otra. Es muy similar a la suma de listas."
      ]
    },
    {
      "cell_type": "code",
      "metadata": {
        "id": "nEfG08UnbFDH"
      },
      "source": [
        "mis_posiciones =  ['GGAL', 'YPF', 'BMA', 'BBAR', 'FRAN', 'LOMA']\n",
        "print(mis_posiciones)\n",
        "mis_posiciones.extend(\"BYMA\")\n",
        "print(mis_posiciones)"
      ],
      "execution_count": null,
      "outputs": []
    },
    {
      "cell_type": "markdown",
      "metadata": {
        "id": "kZjHeYw3xpu7"
      },
      "source": [
        "- **.pop**(): Permite remover el ultimo elemento de la lista. Si lo llamamos con un índice, elimina el elemento que se encuentre en ese lugar."
      ]
    },
    {
      "cell_type": "code",
      "metadata": {
        "id": "UDWAtoERNfCw"
      },
      "source": [
        "mis_posiciones =  ['GGAL', 'YPF', 'BMA', 'BBAR', 'FRAN', 'LOMA']\n",
        "mis_posiciones.pop() # Quito el ultimo elemento\n",
        "print(mis_posiciones)\n",
        "mis_posiciones.pop(0) # Quito el elemento en el índice 0\n",
        "print(mis_posiciones)"
      ],
      "execution_count": null,
      "outputs": []
    },
    {
      "cell_type": "markdown",
      "metadata": {
        "id": "xuJGzxm_30Vu"
      },
      "source": [
        "- **.remove**(): Remueve el primer elemento de la lista cuyo valor sea el indicado."
      ]
    },
    {
      "cell_type": "code",
      "metadata": {
        "id": "rHDPAGdHNwlH"
      },
      "source": [
        "mis_posiciones =  ['GGAL', 'YPF', 'BMA', 'BBAR', 'FRAN', 'LOMA']\n",
        "mis_posiciones.remove('GGAL') # elimino el primer valor igual a 2\n",
        "print(mis_posiciones)\n",
        "mis_posiciones.remove('BMA') # elimino el primer valor igual a 2\n",
        "print(mis_posiciones)"
      ],
      "execution_count": null,
      "outputs": []
    },
    {
      "cell_type": "markdown",
      "metadata": {
        "id": "5fLZ42t4zKbG"
      },
      "source": [
        "- **del lista[*índice*]**: Para eliminar un elemento en una posición determinada."
      ]
    },
    {
      "cell_type": "code",
      "metadata": {
        "id": "yTvsT5UazWN0"
      },
      "source": [
        "mis_posiciones =  ['GGAL', 'YPF', 'BMA', 'BBAR', 'FRAN', 'LOMA']\n",
        "del mis_posiciones[1]\n",
        "print(mis_posiciones)"
      ],
      "execution_count": null,
      "outputs": []
    },
    {
      "cell_type": "markdown",
      "metadata": {
        "id": "JBxjC81WznRe"
      },
      "source": [
        "- Chequear **algo** **in** **lista**: Muchas veces es necesario saber si un elemento esta dentro de una lista, para ello utilizamos esta estructura.\n"
      ]
    },
    {
      "cell_type": "code",
      "metadata": {
        "id": "WOMGmQypuRtu"
      },
      "source": [
        "mis_posiciones =  ['GGAL', 'YPF', 'BMA', 'BBAR', 'FRAN', 'LOMA']\n",
        "\n",
        "print('Tengo YPF?', 'YPF' in mis_posiciones)\n",
        "print('Tengo TSLA?', 'TSLA' in mis_posiciones)"
      ],
      "execution_count": null,
      "outputs": []
    },
    {
      "cell_type": "markdown",
      "metadata": {
        "id": "dkrLVYAUcq3Q"
      },
      "source": [
        "*   **str.join()**: operación inversa a **`split`**. Permite unir los elementos de una lista de forma secuencial (concatenar), utilizando como separador el ´str´ indicado.\n",
        "\n"
      ]
    },
    {
      "cell_type": "code",
      "metadata": {
        "id": "K6W_gSiWc2nW"
      },
      "source": [
        "mis_posiciones =  ['GGAL', 'YPF', 'BMA', 'BBAR', 'FRAN', 'LOMA']\n",
        "\n",
        "', '.join(mis_posiciones)"
      ],
      "execution_count": null,
      "outputs": []
    },
    {
      "cell_type": "markdown",
      "source": [
        "* set(): Permite eliminar los duplicados presentes en una lista (en realidad estoy armando un set, que veremos a continuación y lo convertimos en lista nuevamente)"
      ],
      "metadata": {
        "id": "33-2ysQtRzZH"
      }
    },
    {
      "cell_type": "code",
      "source": [
        "mis_posiciones =  ['GGAL', 'YPF', 'BMA', 'BBAR', 'FRAN', 'LOMA','GGAL']\n",
        "mis_posiciones = list(set(mis_posiciones))\n",
        "mis_posiciones"
      ],
      "metadata": {
        "id": "DWTeBLLSR9F2"
      },
      "execution_count": null,
      "outputs": []
    },
    {
      "cell_type": "markdown",
      "source": [
        "Una forma alternativa de generar una lista es utilizando la instrucción **for** dentro de los corchetes de la siguiente manera:\n",
        "\n",
        "> b = **[** x **for** x **in** **range**(N) **]**\n",
        "\n",
        "Esto es llamado **list comprehension** y es una forma de armar, recorrer o trabajar con listas de manera más **pythonic** (pytonesco,eficiente)."
      ],
      "metadata": {
        "id": "opW9H42HMylm"
      }
    },
    {
      "cell_type": "code",
      "source": [
        "acciones_arg = ['ggal', 'ypfd', 'bma', 'bbar', 'cepu']\n",
        "acciones_arg_ganadoras = ['tran','loma']\n",
        "\n",
        "acciones_mayusculas = [accion.upper() for accion in acciones_arg]\n",
        "\n",
        "print(acciones_mayusculas)\n",
        "\n",
        "acciones_con_info = [(accion, len(accion) > 3) for accion in acciones_arg]\n",
        "\n",
        "print(acciones_con_info)\n",
        "\n",
        "acciones_ganadoras = [(accion, accion in acciones_arg_ganadoras ) for accion in acciones_arg]\n",
        "\n",
        "print(acciones_ganadoras)\n",
        "print(type(acciones_ganadoras[0]))"
      ],
      "metadata": {
        "id": "FpcF-AIVM75l"
      },
      "execution_count": null,
      "outputs": []
    },
    {
      "cell_type": "code",
      "source": [
        "'''\n",
        "dia = ['Lunes', 'Martes', 'Miercoles', 'Jueves', 'Viernes']\n",
        "precio_cierre = [100, 101, 102, 98, 97, 99]\n",
        "\n",
        "print(f'El precio de cierre del día {dia[6]} fue de ${precio_cierre[6]}')\n",
        "'''"
      ],
      "metadata": {
        "id": "s7KiqUzEOqR9"
      },
      "execution_count": null,
      "outputs": []
    },
    {
      "cell_type": "markdown",
      "source": [
        "#### Diccionarios\n",
        "\n",
        "![image.png](data:image/png;base64,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)"
      ],
      "metadata": {
        "id": "57gcN-Ano4h_"
      }
    },
    {
      "cell_type": "markdown",
      "source": [
        "Un **diccionario** es otra estructura de datos muy útil y muy utilizada cotidianamente. Pensemos en un diccionario físico, que incluye una gran cantidad de información organizada por palabras ordenadas alfabéticamente y contenido asociado a ellas. Lo que nos interesa obtener de un diccionario son las definiciones, y cada palabra es la *llave* que nos ayudará a encontrar esas definiciones.\n",
        "En programación, los diccionarios no son muy distintos. Un **diccionario** en este contexto es una estructura de datos cuya información esta organizada igual que en un diccionario físico. Cada bloque de información, es decir, cada elemento, tiene asociada una palabra. La palabra que se utiliza para encontrar el bloque de información se la suele denominar **key** o **clave**. Mediante la **clave** se puede acceder a dicha informacion, la cual se suele denominar **contenido**. El par **clave,contenido** suele llamarse **elemento**.\n",
        "\n",
        "Es muy importante notar que **no pueden existir dos elementos con igual clave**, estos serían indistinguibles.\n",
        "\n",
        "La **clave** suele ser información con tipo de dato *string* (aunque no necesariamente), mientras que el contenido puede tener cualquier tipo de dato.\n",
        "\n",
        "Los diccionarios se crean utilizando la siguiente estructura:\n",
        "\n",
        "> x = **{**  $k_{0}$ **:** $c_{0}$**,** $k_{1}$ **:** $c_{1}$, $\\dots$**}**\n",
        ">\n",
        "> El \"**:**\" divide el *key* del *contenido*."
      ],
      "metadata": {
        "id": "4Fgg0J-zhJ6G"
      }
    },
    {
      "cell_type": "code",
      "source": [
        "precios_cierre = {\"YPFD\": 1020.5, \"PAMP\": 156.25, \"GGAL\": 210.00}\n",
        "precios_cierre"
      ],
      "metadata": {
        "id": "XIWl-eGPhhwN"
      },
      "execution_count": null,
      "outputs": []
    },
    {
      "cell_type": "markdown",
      "source": [
        "¿Qué pasa si repetimos una clave?"
      ],
      "metadata": {
        "id": "NAzefqDHiCjc"
      }
    },
    {
      "cell_type": "code",
      "source": [
        "precios_cierre = {\"YPFD\": 1020.5, \"PAMP\": 156.25, \"GGAL\": 210.00, \"YPFD\": 1200}\n",
        "precios_cierre"
      ],
      "metadata": {
        "id": "C93mo4H6iFRs"
      },
      "execution_count": null,
      "outputs": []
    },
    {
      "cell_type": "markdown",
      "source": [
        "Para acceder a los datos, simplemente tenemos que usar la instrucción keys() para el caso de las llaves, values() para el caso de los valores o items() para los pares clave-valor."
      ],
      "metadata": {
        "id": "vxMX133Miem9"
      }
    },
    {
      "cell_type": "code",
      "source": [
        "print(precios_cierre.keys())\n",
        "print(precios_cierre.values())\n",
        "print(precios_cierre.items())"
      ],
      "metadata": {
        "id": "L5nav2GPim1e"
      },
      "execution_count": null,
      "outputs": []
    },
    {
      "cell_type": "markdown",
      "source": [
        "¿Cuál fue el precio de cierre de Pampa?"
      ],
      "metadata": {
        "id": "Kqb6aUZui4Ms"
      }
    },
    {
      "cell_type": "code",
      "source": [
        "print(precios_cierre.get('PAMP',0)) #Mejor opción, manejo de error ante un dato faltante.\n",
        "print(precios_cierre['PAMP'])"
      ],
      "metadata": {
        "id": "9Aemw5Xui70J"
      },
      "execution_count": null,
      "outputs": []
    },
    {
      "cell_type": "markdown",
      "source": [
        "Otros métodos, permiten hacer actualizaciones de los diccionarios sobreescribiendo los valores pre-existentes, eliminar llaves, insertar valores nuevos, etc."
      ],
      "metadata": {
        "id": "IDgHNETdju08"
      }
    },
    {
      "cell_type": "markdown",
      "source": [
        "* pop(): Permite nuevamente borrar una llave de un diccionario (antes un elemento de una lista)"
      ],
      "metadata": {
        "id": "vsgjw-EykXv2"
      }
    },
    {
      "cell_type": "code",
      "source": [
        "print(precios_cierre.pop('GGAL', 0))\n",
        "precios_cierre"
      ],
      "metadata": {
        "id": "JuM5i2_rj9v0"
      },
      "execution_count": null,
      "outputs": []
    },
    {
      "cell_type": "markdown",
      "source": [
        "* update(): Permite actualizar el valor de una llave ya existente dentro del diccionario"
      ],
      "metadata": {
        "id": "CWjQWouykj5W"
      }
    },
    {
      "cell_type": "code",
      "source": [
        "precios_cierre.update({'YPFD': 1220})\n",
        "precios_cierre"
      ],
      "metadata": {
        "id": "plogfAVxj0Bs"
      },
      "execution_count": null,
      "outputs": []
    },
    {
      "cell_type": "markdown",
      "source": [
        "* Agregamos nuevamente la clave GGAL al diccionario"
      ],
      "metadata": {
        "id": "zBI6j5nlk9wl"
      }
    },
    {
      "cell_type": "code",
      "source": [
        "precios_cierre['GGAL'] = 210.0\n",
        "precios_cierre"
      ],
      "metadata": {
        "id": "psIl2ZRGlJRG"
      },
      "execution_count": null,
      "outputs": []
    },
    {
      "cell_type": "markdown",
      "source": [
        "#### Tuplas\n",
        "\n",
        "Las **tuplas** son similares a las listas, pero a diferencia de ellas se dice que las tuplas son *inmutables*. Esto quiere decir que sus elementos no pueden cambiar una vez definidos. Se pueden crear usando paréntesis, de la siguiente manera:\n",
        "\n",
        "> a = **(** $ a_{0}, a_{1}, a_{2},\\dots $ **)**\n",
        "\n",
        "Los elementos de una tupla también se pueden acceder usando un índice entre corchetes ya que admiten *slicing*.\n",
        "\n",
        "Cuando creamos una función (tema que veremos más adelante) que devuelve más de un elemento separado por comas, estamos utilizando una tupla sin darnos cuenta. Cuando intercambiamos 2 elementos de una lista también aparecen tuplas."
      ],
      "metadata": {
        "id": "IV_Wkg4Vo9lm"
      }
    },
    {
      "cell_type": "code",
      "source": [
        "bonos_tesoro= (\"AL30\", \"GD30\", \"AE38\", \"GD41\")\n",
        "print(bonos_tesoro[0])\n",
        "type(bonos_tesoro)"
      ],
      "metadata": {
        "id": "OOCdh9BIoTsM"
      },
      "execution_count": null,
      "outputs": []
    },
    {
      "cell_type": "code",
      "source": [
        "bonos_tesoro[1] = \"AL30D\" #Forzamos el error"
      ],
      "metadata": {
        "id": "61vwtwBNoufF"
      },
      "execution_count": null,
      "outputs": []
    },
    {
      "cell_type": "markdown",
      "source": [
        "#### Sets\n",
        "\n",
        "![image.png](data:image/png;base64,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)\n",
        "\n",
        "Un **set** es una estructura de datos más avanzada que las anteriores, la cual nos permite almacenar un grupo de elementos cuyo orden no es relevante. Lo único que tiene importancia cuando utilizamos un **set** es qué elemento está y qué elemento no.\n",
        "\n",
        "Un **set** no admite repetidos, ya que por su funcionamiento interno no tiene la capacidad de determinar si un elemento se encuentra más de una vez, solamente puede saber qué elementos están y qué elementos no.\n",
        "A primera vista parecería que esta estructura es muy limitada, ya que no está ordenada y no acepta repetidos, pero es muy práctica para algunos tipos de operaciones, las cuales serían muy tediosas de  programar en listas o diccionarios.\n",
        "\n",
        "Para crear un **set** se utilizan llaves **{ }** y se colocan elementos separados por comas, su sintaxis es similar a la de las listas."
      ],
      "metadata": {
        "id": "DNKSXyP5pBP3"
      }
    },
    {
      "cell_type": "code",
      "source": [
        "# Portafolios de dos inversores\n",
        "portfolio_A = ['AAPL', 'MSFT', 'TSLA', 'GOOGL']\n",
        "portfolio_B = ['TSLA', 'AMZN', 'NFLX', 'MSFT']\n",
        "\n",
        "acciones_ganadoras = ['AAPL', 'TSLA', 'AMZN']"
      ],
      "metadata": {
        "id": "6tOVFtr6TO6t"
      },
      "execution_count": null,
      "outputs": []
    },
    {
      "cell_type": "code",
      "source": [
        "interseccion = (set(portfolio_A) & set(portfolio_B))\n",
        "print(\"Acciones en común:\", interseccion)"
      ],
      "metadata": {
        "id": "CAb9n_B6UHA9"
      },
      "execution_count": null,
      "outputs": []
    },
    {
      "cell_type": "code",
      "source": [
        "acciones_ganadoras_en_comun = list(set(interseccion) & set(acciones_ganadoras))\n",
        "print(\"Acciones ganadoras en común:\", acciones_ganadoras_en_comun)"
      ],
      "metadata": {
        "id": "XiJhTfA-UOjW"
      },
      "execution_count": null,
      "outputs": []
    },
    {
      "cell_type": "code",
      "source": [
        "union = list(set(portfolio_A) | set(portfolio_B))\n",
        "print(\"Acciones combinadas:\", union)"
      ],
      "metadata": {
        "id": "FI_OOOIoUUEl"
      },
      "execution_count": null,
      "outputs": []
    },
    {
      "cell_type": "code",
      "source": [
        "solo_portfolio_A = list(set(portfolio_A) - set(portfolio_B))\n",
        "print(\"Sólo en el portfolio A:\", solo_portfolio_A)"
      ],
      "metadata": {
        "id": "6RFt3T6kUY41"
      },
      "execution_count": null,
      "outputs": []
    },
    {
      "cell_type": "markdown",
      "source": [
        "## Control de flujos"
      ],
      "metadata": {
        "id": "UptKrtpTjHB_"
      }
    },
    {
      "cell_type": "markdown",
      "source": [
        "Los programas siguen un \"flujo\" definido por el programador. Hasta ahora, el flujo que siguen todos nuestros programas es secuencial y lineal: se ejecuta una instrucción, luego la siguiente, luego la siguiente a esta, y así sucesivamente hasta terminar con la última instrucción.\n",
        "\n",
        "Sin embargo, podemos realizar tareas diferentes dependiendo de ciertas condiciones, repetir segmentos de código, y modificar el flujo del programa de forma que no sea simplemente una secuencia lineal de instrucciones. Esto permite realizar tareas mucho más complejas, en las cuales el programa tome decisiones respecto a lo que debe hacer en función de la situación.\n",
        "\n",
        "Notar que todas las estructuras que veremos terminan con un \"**:**\" , y la siguiente línea tiene **un tab de *indentación*** (una sangría igual a cuatro espacios). Este tab es obligatorio en python cuando trabajamos con estructuras de control de flujo, y sirve para dar jerarquía al orden en el cuál el programa debe leer cada línea.\n",
        "\n",
        "Además, podemos combinar estas estructuras de cualquier manera, dependiendo de nuestras necesidades."
      ],
      "metadata": {
        "id": "Jf2NbV8yjKme"
      }
    },
    {
      "cell_type": "markdown",
      "source": [
        "### Estructura IF"
      ],
      "metadata": {
        "id": "p3J2X2Ddjmh-"
      }
    },
    {
      "cell_type": "markdown",
      "source": [
        "El **`if`** es la estructura básica que permite analizar si se cumple una condición (es decir, si es equivalente a **`True`**), y realizar distintas acciones de acuerdo a si eso sucede o no. En el caso de no suceder, podemos explicitar una acción a seguir, o simplemente, continuar con las líneas de código que estén en la misma jerarquía que el condicional.\n",
        "\n",
        "Las distintas formas de implementar esta estructura son las siguientes:\n"
      ],
      "metadata": {
        "id": "ZwrTJ6VwnfTQ"
      }
    },
    {
      "cell_type": "code",
      "source": [
        "precio_actual_accion = 150.75\n",
        "precio_stoploss = 145.00\n",
        "\n",
        "if precio_actual_accion <= precio_stoploss:\n",
        "  print(\"¡Precio de stop-loss alcanzado! Vender la acción.\")\n",
        "else:\n",
        "  print(\"El precio de la acción está por encima del stop-loss. Mantener posición.\")\n"
      ],
      "metadata": {
        "id": "KEg-X2KSsell"
      },
      "execution_count": null,
      "outputs": []
    },
    {
      "cell_type": "code",
      "source": [
        "posiciones_cerradas = []\n",
        "YPF = 15\n",
        "if YPF > 20:\n",
        "  print(\"Vender acción\")\n",
        "  posiciones_cerradas.append(\"YPF\")\n",
        "else:\n",
        "  print(\"No vender acción\")\n",
        "\n",
        "print(f\"Posiciones cerradas: {posiciones_cerradas}\")\n",
        "print(\"Continua con el resto del programa\")"
      ],
      "metadata": {
        "id": "VfoJ2xiTontN"
      },
      "execution_count": null,
      "outputs": []
    },
    {
      "cell_type": "markdown",
      "source": [
        "En el siguiente caso, vemos un ejemplo de **decisiones consecutivas**, es decir, evaluamos una variable consecutivamente con los límites de cada grupo."
      ],
      "metadata": {
        "id": "wtPQ8SlrtFGe"
      }
    },
    {
      "cell_type": "code",
      "source": [
        "YPF = 8\n",
        "comision = 0.004\n",
        "comitente_disponible = 100\n",
        "\n",
        "print(f\"El valor inicial disponible de la comitente es de ${comitente_disponible}\")\n",
        "\n",
        "if YPF > 20:\n",
        "  print(\"Vender papel de YPF\")\n",
        "  comitente_disponible += YPF -comision * YPF\n",
        "elif YPF < 10:\n",
        "  print(\"Comprar otro papel de YPF\")\n",
        "  comitente_disponible -=  YPF +comision * YPF\n",
        "else:\n",
        "  print(\"Consultar al acesor\")\n",
        "\n",
        "print(f\"El valor final disponible de la comitente luego de la rueda es de ${comitente_disponible}\")\n",
        "print(\"Continua con el resto del programa\")\n"
      ],
      "metadata": {
        "id": "Ri7Pth-OpLx1"
      },
      "execution_count": null,
      "outputs": []
    },
    {
      "cell_type": "markdown",
      "source": [
        "Por otra parte, podemos tener **decisiones anidadas**, que a diferencia del ejemplo anterior, son decisiones dentro de otras:"
      ],
      "metadata": {
        "id": "hSQaAW5UtQzO"
      }
    },
    {
      "cell_type": "code",
      "source": [
        "cotizacion = 5500\n",
        "volumen_operado = 1200000\n",
        "tendencia = \"bajista\"\n",
        "\n",
        "if cotizacion > 5000:\n",
        "  if volumen_operado > 1000000:\n",
        "    if tendencia == \"alcista\":\n",
        "      print(\"La acción parece una buena oportunidad de compra.\")\n",
        "    else:\n",
        "      print(\"La cotización es alta, pero la tendencia no es alcista. Consultar analista.\")\n",
        "  else:\n",
        "    print(\"La cotización es alta, pero el volumen operado es bajo. Observar.\")\n",
        "else:\n",
        "  print(\"La cotización es baja. Analizar otros factores.\")"
      ],
      "metadata": {
        "id": "hwpbw4fTtZn2"
      },
      "execution_count": null,
      "outputs": []
    },
    {
      "cell_type": "markdown",
      "source": [
        "La cantidad de **elif** dentro del condicional no es fija, es decir, podemos evaluar cuantas condiciones querramos. En cuanto al **else**, si se utiliza sólo una vez a la salida del bloque.\\\n",
        "Es muy común expresar las sentencias condicionales a través de un **diagrama de flujo**. Esta es una herramienta visual que permite seguir correctamente los diferentes caminos que pueden surgir con la sentencia **`if`**.\n",
        "\n",
        "<p align=\"center\">\n",
        "<img\n",
        "     src=\"https://drive.google.com/uc?export=view&id=1gldDdC8C97lVgIrhKEtwsHr-x4ATvh4U\"\n",
        "     alt=\"pypl\"\n",
        "     width=20%\n",
        "     height=20%>\n",
        "</p>\n"
      ],
      "metadata": {
        "id": "4-OyH8YWplJe"
      }
    },
    {
      "cell_type": "markdown",
      "source": [
        "### Ciclos"
      ],
      "metadata": {
        "id": "cy20PH4nsuDe"
      }
    },
    {
      "cell_type": "markdown",
      "source": [
        "En Python, los ciclos (bucles o loops) permiten repetir un bloque de código múltiples veces. Estos ciclos pueden clasificarse según su duración en:\n",
        "\n",
        "1. **Ciclos finitos**\n",
        "Son aquellos que tienen una cantidad de repeticiones determinada y a su vez pueden subdividirse en:\n",
        "\n",
        "**Definidos**: Sabemos desde el principio cuántas veces se va a ejecutar el ciclo. Por ejemplo, al recorrer una lista de elementos o al utilizar un range(). Se suelen implementar con la estructura for\n",
        "\n",
        "**Indefinidos**: Aunque se espera que terminen en algún momento, no sabemos cuántas iteraciones se necesitarán. Dependen de una condición que se evalúa en cada vuelta. Se suelen implementar con la estructura while.\n",
        "\n",
        "2. **Ciclos infinitos**\n",
        "Son bucles que, en principio, se ejecutan indefinidamente porque la condición de finalización nunca se cumple. Estos se usan, por ejemplo, en programas que deben mantenerse activos continuamente y normalmente incluyen una instrucción de corte, como break, para terminar cuando se cumpla una condición específica."
      ],
      "metadata": {
        "id": "j0DrSYAHuEEM"
      }
    },
    {
      "cell_type": "markdown",
      "source": [
        "#### Estructura FOR"
      ],
      "metadata": {
        "id": "FThvTebXjty9"
      }
    },
    {
      "cell_type": "markdown",
      "source": [
        "Al utilizar el comando FOR, en este caso particular, sabemos de antemano cuál es la cantidad de iteraciones que vamos a tener, dado por la cantidad de elementos en las listas iterables. En el ejemplo de abajo, iteramos sobre una lista, pero se puede iterar sobre distintos tipos de conjuntos."
      ],
      "metadata": {
        "id": "ebPoYEyWwgz9"
      }
    },
    {
      "cell_type": "code",
      "source": [
        "precios_acciones = {\n",
        "    \"AAPL\": 100.50,\n",
        "    \"MSFT\": 102.30,\n",
        "    \"GOOGL\": 99.80,\n",
        "    \"AMZN\": 105.10,\n",
        "    \"TSLA\": 101.90\n",
        "}\n",
        "precio_bajo = []\n",
        "precio_moderado = []\n",
        "precio_alto = []\n",
        "\n",
        "print(\"Análisis simple de precios de acciones argentinas:\")\n",
        "\n",
        "# Recorremos el diccionario\n",
        "for nombre, precio in list(precios_acciones.items()):\n",
        "    if precio > 102.00:\n",
        "        print(f\"La acción {nombre} tiene un precio alto: ${precio:.2f}\")\n",
        "        precio_alto.append(nombre)\n",
        "    elif precio < 100.00:\n",
        "        print(f\"La acción {nombre} tiene un precio bajo: ${precio:.2f}\")\n",
        "        precio_bajo.append(nombre)\n",
        "    else:\n",
        "        print(f\"La acción {nombre} tiene un precio moderado: ${precio:.2f}\")\n",
        "        precio_moderado.append(nombre)\n",
        "\n",
        "print(f\"\\nAcciones con precios bajos: {precio_bajo}\")\n",
        "print(f\"Acciones con precios moderados: {precio_moderado}\")\n",
        "print(f\"Acciones con precios altos: {precio_alto}\")"
      ],
      "metadata": {
        "id": "cm6eMF4ts08t"
      },
      "execution_count": null,
      "outputs": []
    },
    {
      "cell_type": "markdown",
      "source": [
        "En el ejemplo, **range()** es un método que sirve para iterar sobre una lista (lo veremos a continuación). Admite un parámetro que indica \"desde\", otro \"hasta\" y un incremento."
      ],
      "metadata": {
        "id": "RHEGAS6kw28t"
      }
    },
    {
      "cell_type": "code",
      "source": [
        "for i in range(1000):\n",
        "  print(f\"Iteración número: {i}\")\n",
        "  if i == 5:\n",
        "    print(\"Condición cumplida: i es igual a 5.\")\n",
        "    break\n",
        "  else:\n",
        "    print(\"La condición aún no se cumple.\")\n",
        "\n",
        "print(\"El ciclo ha terminado.\")\n"
      ],
      "metadata": {
        "id": "JaTOEEHpd4F5"
      },
      "execution_count": null,
      "outputs": []
    },
    {
      "cell_type": "markdown",
      "source": [
        "En el caso anterior, si bien sabemos que finalizará al terminar de recorrer el rango de 1000 y por ende es finito, no sabemos a priori en que momento va a cortar y salir de la iteración.\\\n",
        "Podemos ver en el código la presencia de la instrucción **break**, que hace que una vez cumplida la condición, el sistema salga del bucle. De lo contrario, seguiría ejecutando. Otra instrucción es **continue**, que dada una condición cumplida, hará que el sistema se saltee la iteración y pase a la siguiente."
      ],
      "metadata": {
        "id": "wHsnUXzSx7Pd"
      }
    },
    {
      "cell_type": "code",
      "source": [
        "for i in range(10):\n",
        "  if i % 2 == 0:\n",
        "    continue\n",
        "  print(f\"Este número es impar: {i}\")"
      ],
      "metadata": {
        "id": "tS2CyAbslFPo"
      },
      "execution_count": null,
      "outputs": []
    },
    {
      "cell_type": "markdown",
      "source": [
        "#### Estructura WHILE"
      ],
      "metadata": {
        "id": "kCbG9M1Tjo8l"
      }
    },
    {
      "cell_type": "markdown",
      "source": [
        "En algunos casos, puede que necesitemos repetir tareas idénticas una cierta cantidad de veces. Por eso, la estructura **while** nos permite repetir una porción del código una y otra vez, en tanto se verifique cierta condición. La estructura básica es la siguiente:"
      ],
      "metadata": {
        "id": "IdmY7D0Hq79l"
      }
    },
    {
      "cell_type": "code",
      "source": [
        "saldo = 1000\n",
        "interes_anual = 0.05\n",
        "años = 0\n",
        "\n",
        "while saldo < 2000:\n",
        "  saldo = saldo * (1 + interes_anual)\n",
        "  años += 1\n",
        "  print(f\"Después de {años} años, el saldo es: ${saldo:.2f}\")\n",
        "\n",
        "print(f\"\\nEl saldo superó los $2000 después de {años} años.\")"
      ],
      "metadata": {
        "id": "pbiJ3CMBrpj3"
      },
      "execution_count": null,
      "outputs": []
    },
    {
      "cell_type": "markdown",
      "source": [
        "De manera más formal, el flujo de ejecución es el siguiente:\n",
        "\n",
        "1. Determinar si la condición de corte es verdadera o falsa (True o False).\n",
        "2. Si la condición es verdadera, se ejecuta el cuerpo dentro del while y se vuelve al paso 1.\n",
        "3. Si la condición es falsa, se sale del bucle sin correr el bloque de código *indentado*, y se continúa ejecutando el programa en la línea siguiente (no *indentada*)."
      ],
      "metadata": {
        "id": "1lO1spAbr9Xd"
      }
    },
    {
      "cell_type": "markdown",
      "source": [
        "En el ejemplo anterior, vimos un bucle while de tipo finito, ya que en algún momento se cumple la condición de salida por cómo está estructurado el código. Sin embargo, en otros casos, podría no cumplirse nunca. Veamos el siguiente ejemplo:"
      ],
      "metadata": {
        "id": "Id1fBF6agji5"
      }
    },
    {
      "cell_type": "code",
      "source": [
        "x = 1\n",
        "while x < 10:\n",
        "  print(f\"El valor de x es: {x}\")\n",
        "  x += 1 # Que pasa si comentamos esta línea?"
      ],
      "metadata": {
        "id": "3kBB0H80hb7B"
      },
      "execution_count": null,
      "outputs": []
    },
    {
      "cell_type": "markdown",
      "source": [
        "En los casos en que un bucle no se detiene correctamente y se vuelve infinito, pueden producirse errores o comportamientos no deseados. Por ejemplo, si un sistema recibe actualizaciones de precios y por algún motivo deja de recibir nuevos datos (quedándose estancado en un valor), el programa podría seguir ejecutándose indefinidamente sin avanzar. Para evitar este tipo de situaciones, existen herramientas en diversas librerías que permiten controlar el flujo del programa, ya sea mediante límites de tiempo, condiciones de corte adicionales o validaciones sobre los datos recibidos."
      ],
      "metadata": {
        "id": "1KDegILhiJiQ"
      }
    },
    {
      "cell_type": "markdown",
      "source": [
        "### Manejo de errores"
      ],
      "metadata": {
        "id": "-7KhwbmRljO5"
      }
    },
    {
      "cell_type": "markdown",
      "source": [
        "Existe una sentencia que nos permite evitar que todo el script se corte de forma inesperada al presentarse un error que el interprete no es capaz de resolver, recordando que Python es un lenguaje dinamicamente tipado, y por ende va ejecutando línea a línea.\\\n",
        "Este método** try/except ** nos permite indicarle al intérprete que hace ante presencia de un error que sospechamos puede ocurrir en determinado bloque de código. Vemos un ejemplo:"
      ],
      "metadata": {
        "id": "QJUVk4h7mQ_O"
      }
    },
    {
      "cell_type": "code",
      "source": [
        "try:\n",
        "  precio_compra_str = input(\"Ingrese el precio de compra de la acción: \")\n",
        "  precio_venta_str = input(\"Ingrese el precio de venta de la acción: \")\n",
        "\n",
        "  # Intentar convertir las entradas a números de punto flotante\n",
        "  precio_compra = float(precio_compra_str)\n",
        "  precio_venta = float(precio_venta_str)\n",
        "\n",
        "  # Calcular la ganancia o pérdida por acción\n",
        "  ganancia_por_accion = precio_venta - precio_compra\n",
        "\n",
        "  print(f\"La ganancia (o pérdida) por acción es: ${ganancia_por_accion:.2f}\")\n",
        "\n",
        "except ValueError:\n",
        "  # Manejar el error si la conversión a float falla (entrada no numérica)\n",
        "  print(\"Error: Por favor, ingrese solo valores numéricos para los precios.\")\n",
        "except Exception as e:\n",
        "  # Manejar cualquier otro tipo de error inesperado\n",
        "  print(f\"Ocurrió un error inesperado: {e}\")\n",
        "\n",
        "print(\"Fin del análisis de precios.\")"
      ],
      "metadata": {
        "id": "STx8DUPdlldT"
      },
      "execution_count": null,
      "outputs": []
    },
    {
      "cell_type": "markdown",
      "source": [
        "Existen librerias que nos permiten \"capturar\" el error y obtener más información del mismo para su análisis y entender que es lo que sucedió."
      ],
      "metadata": {
        "id": "yMzeMglHnk0v"
      }
    },
    {
      "cell_type": "markdown",
      "source": [
        "## Ejercicios Prácticos"
      ],
      "metadata": {
        "id": "fji_-hhdvbE_"
      }
    },
    {
      "cell_type": "markdown",
      "source": [
        "### Ejercicio N°1 - Comparando Inversiones en Renta Fija\n"
      ],
      "metadata": {
        "id": "QbMTSJdpKfrf"
      }
    },
    {
      "cell_type": "markdown",
      "source": [
        "🧠Una persona está evaluando dos opciones de inversión para su capital inicial de $100.000:\n",
        "\n",
        "* Plazo Fijo Tradicional con una TNA (Tasa Nominal Anual) de 110%, capitalizado mensualmente. (Pista: calcular la tasa nominal mensual y capitalizar por la cantidad total de meses)\n",
        "\n",
        "* Obligación Negociable con pagos trimestrales y una TEA (Tasa Efectiva Anual) del 25%.\n",
        "\n",
        "✅ Objetivo:\n",
        "\n",
        "* Calcular el monto final para cada opción luego de 12 meses.\n",
        "\n",
        "* Determinar cuál de las dos opciones conviene más en términos de ganancia.\n",
        "\n",
        "* Calcular la diferencia porcentual entre ambas inversiones.\n",
        "\n",
        "* Implementar la solución a modo de cálculadora para ver que sucede en cuanto a la decisión final si cambiamos las tasas\n",
        "\n",
        "* Agregar código para el manejo de errores, en caso de introducir valores incorrectos como inputs.\n",
        "\n",
        "💡 Tips:\n",
        "\n",
        "* Usar variables para representar las tasas, períodos y montos, haciendo uso de la función input() utilizada en clase.\n",
        "* Usar cadenas compuestas para presentar resultados claves.\n",
        "* Aplicar alguna estructura de control de flujo para la comparación final.\n",
        "* Mostrar los resultados con dos decimales.\n",
        "\n",
        "✌ Ayuda:\n",
        "\n",
        "*   TNA: La TNA representa una tasa anual sin capitalización. Es útil para expresar intereses simples, sin tener en cuenta el efecto del interés compuesto.\n",
        "\n",
        "Cálculo de tasas equivalentes:\n",
        "\n",
        "$$\n",
        "\\text{Tasa Equivalente} = \\frac{\\text{TNA}}{k}\n",
        "$$\n",
        "\n",
        "Donde:\n",
        "- $\\text{TNA}$: Tasa Nominal Anual (en forma decimal, por ejemplo 0.60 para 60%)\n",
        "- $k$: cantidad de períodos por año (12 para mensual, 4 para trimestral, etc.)\n",
        "\n",
        "\n",
        "\n",
        "Capitalización sobre n períodos:\n",
        "\n",
        "$$\n",
        "VF = VP \\times \\left(1 + \\frac{\\text{TNA}}{k} \\right)^n\n",
        "$$\n",
        "\n",
        "Donde:\n",
        "- $VF$: Valor Futuro\n",
        "- $VP$: Valor Presente o capital inicial\n",
        "- $n$: cantidad total de períodos (por ejemplo, 8 meses si se capitaliza mensualmente)\n",
        "\n",
        "---\n",
        "\n",
        "*   TEA: La TEA sí refleja el interés compuesto: es la tasa real que se obtiene o paga en un año cuando los intereses se capitalizan con cierta frecuencia (mensual, trimestral, etc.).\n",
        "\n",
        "Cálculo de TEA:\n",
        "\n",
        "$$\n",
        "TEA = \\left(1 + i \\right)^k - 1\n",
        "$$\n",
        "\n",
        "Donde:\n",
        "- $i$: tasa periódica (por ejemplo, mensual, trimestral, etc.)\n",
        "- $k$: número de períodos en un año\n",
        "\n",
        "\n",
        "\n",
        "Obtener tasa periódica a partir de una TEA\n",
        "\n",
        "Para calcular la **tasa efectiva periódica equivalente**, se utiliza la fórmula inversa:\n",
        "\n",
        "$$\n",
        "i = \\left(1 + TEA \\right)^{\\frac{1}{k}} - 1\n",
        "$$\n",
        "\n",
        "Donde:\n",
        "- $TEA$: Tasa Efectiva Anual en forma decimal (por ejemplo, 0.25 para 25%)\n",
        "- $k$: cantidad de períodos por año (12 si mensual, 4 si trimestral, etc.)\n",
        "\n",
        "---\n",
        "\n"
      ],
      "metadata": {
        "id": "_La4r5naJ6g-"
      }
    },
    {
      "cell_type": "markdown",
      "source": [
        "### Ejercicio N°2 - Análisis de Carteras de Acciones"
      ],
      "metadata": {
        "id": "CJqEgs-_Kj6e"
      }
    },
    {
      "cell_type": "markdown",
      "source": [
        "🧠Dos clientes tienen los siguientes portfolios:\n",
        "\n",
        "| Acción | Cliente 1 | Cliente 2 | Precio ($) |\n",
        "|--------|-----------|-----------|------------|\n",
        "| ALUA   | 0         | 900       | 850.0      |\n",
        "| CEPU   | 1000      | 700       | 210.0      |\n",
        "| GGAL   | 1500      | 0         | 330.5      |\n",
        "| YPF    | 800       | 600       | 490.3      |\n",
        "| PAMP   | 500       | 300       | 610.0      |\n",
        "| TXAR   | 200       | 100       | 320.0      |\n",
        "| COME   | 0         | 1200      | 42.5       |\n",
        "\n",
        "\n",
        "✅ Objetivo:\n",
        "* Representar la información brindada por medio de diccionarios, aplicando el concepto de llave-valor.\n",
        "* Calcular el valor total de cada cartera y mostrar los resultados\n",
        "* Encontrar las acciones en común entre ambos portafolios.\n",
        "* Crear un nuevo diccionario con la cantidad total de acciones entre ambos inversores.\n",
        "* Determinar cuál es la acción con mayor peso entre ambas carteras\n",
        "\n",
        "💡 Tips:\n",
        "\n",
        "* Usar estructuras como dict, set, y estructuras de control de flujos.\n",
        "* Emplear bucles.\n",
        "* Imprimir los resultados de forma clara y ordenada, utilizando la función print() y cadenas compuestas.\n",
        "\n",
        "✌ Ayuda:\n",
        "\n",
        "* Serán necesarios 3 diccionarios iniciales.\n",
        "* Se puede resolver utilizando la estructura IF de control de flujos"
      ],
      "metadata": {
        "id": "lG8-3qWXKP7E"
      }
    }
  ]
}