{
  "nbformat": 4,
  "nbformat_minor": 0,
  "metadata": {
    "colab": {
      "provenance": [],
      "authorship_tag": "ABX9TyMNWiPSL7tJiCWX1eUhv6zL",
      "include_colab_link": true
    },
    "kernelspec": {
      "name": "python3",
      "display_name": "Python 3"
    },
    "language_info": {
      "name": "python"
    }
  },
  "cells": [
    {
      "cell_type": "markdown",
      "metadata": {
        "id": "view-in-github",
        "colab_type": "text"
      },
      "source": [
        "<a href=\"https://colab.research.google.com/github/sbernasconi1975/financiero04/blob/main/financiero04%5Bv10%5D.ipynb\" target=\"_parent\"><img src=\"https://colab.research.google.com/assets/colab-badge.svg\" alt=\"Open In Colab\"/></a>"
      ]
    },
    {
      "cell_type": "markdown",
      "source": [
        "# Análisis Financiero\n",
        "\n",
        "---\n",
        "\n"
      ],
      "metadata": {
        "id": "9ZaHvEWlU9uN"
      }
    },
    {
      "cell_type": "markdown",
      "source": [
        "## Inicio en Python\n",
        "\n",
        "\n",
        "---\n",
        "\n",
        "  Vamos a hacer una introducción a los elementos de script que utiliza el lenguaje de programación en python."
      ],
      "metadata": {
        "id": "OLvWfmWhVb8V"
      }
    },
    {
      "cell_type": "markdown",
      "source": [
        "### Primeros pasos script\n",
        "\n",
        "\n",
        "---\n",
        "\n",
        "El output de un bloque de código, función o una línea, simplemente es la manera de transmitir información hacia el entorno. En Collab vemos el output del programa debajo de la celda donde fue ejecutado.\n",
        "\n",
        "En algunos casos (en la consola, por ejemplo), para mostrar un dato en la pantalla, precisamos utilizar el comando print( ), poniendo el dato que deseemos entre los parentesis.\n",
        "\n",
        "La estructura nombre(argumento1, argumento2, ...) corresponde a una función en Python. Una función es un bloque de código que se ejecuta sólo cuando es llamado.Como toda función, se les paso datos/instrucciones específicas, también llamados argumentos o parámetros,y nos devuelve un resultado o realiza una determinada acción.\n",
        "\n",
        "El comando print( ) va a recibir como argumento, un número y una cadena de texto, o string, e imprimirá el texto en pantalla. Print, es una \"Built-in function\", a diferencia de una función que podemos crear nosotros."
      ],
      "metadata": {
        "id": "85W9xBkjWajG"
      }
    },
    {
      "cell_type": "code",
      "execution_count": null,
      "metadata": {
        "colab": {
          "base_uri": "https://localhost:8080/"
        },
        "id": "rzoFDEVkUvG8",
        "outputId": "8bd176a9-fd41-4b82-8182-a50aeadb1d1b"
      },
      "outputs": [
        {
          "output_type": "stream",
          "name": "stdout",
          "text": [
            "Hola, buenos días\n",
            "hoy es un bello día\n"
          ]
        }
      ],
      "source": [
        "# Imprime en la pantalla un saludo\n",
        "print(\"Hola, buenos días\") # esta función print nos permite visualizar una cadena\n",
        "print(\"hoy es un bello día\")"
      ]
    },
    {
      "cell_type": "markdown",
      "source": [
        "Luego vamos a tener las **variables** que son contenedores de los datos que les vamos a ir agregando."
      ],
      "metadata": {
        "id": "gUaUcizRXapt"
      }
    },
    {
      "cell_type": "code",
      "source": [
        "# En este caso vamos a definir una variable \"accion\" y que va a ser un texto (string) del símbolo que representa.\n",
        "accion = \"YPF\"\n",
        "precio = \"67\"\n",
        "print( \"El precio de la acción de\" ,accion, \"es de\", precio) #en este caso estamos combinando en una oración las variables que definimos"
      ],
      "metadata": {
        "colab": {
          "base_uri": "https://localhost:8080/"
        },
        "id": "4ZnJLb7_XnWU",
        "outputId": "c557d6e6-309c-4fc8-9401-fdc628137a80"
      },
      "execution_count": null,
      "outputs": [
        {
          "output_type": "stream",
          "name": "stdout",
          "text": [
            "El precio de la acción de YPF es de 67\n"
          ]
        }
      ]
    },
    {
      "cell_type": "markdown",
      "source": [
        "En este caso anterior usamos partes sueltas para obtener el resultado pero para armar una cadena compuesta se utiliza f-string"
      ],
      "metadata": {
        "id": "VfkB2Cj8ZRBg"
      }
    },
    {
      "cell_type": "code",
      "source": [
        "print(f\"El precio de la acción de {accion} es de {precio}\")"
      ],
      "metadata": {
        "colab": {
          "base_uri": "https://localhost:8080/"
        },
        "id": "qaHjHXUnZw1F",
        "outputId": "153e1646-a19e-4b2f-da18-4f45a9c6a9a9"
      },
      "execution_count": null,
      "outputs": [
        {
          "output_type": "stream",
          "name": "stdout",
          "text": [
            "El precio de la acción de YPF es de 67\n"
          ]
        }
      ]
    },
    {
      "cell_type": "code",
      "source": [
        "#Listado de palabras clave que son utilizadas en Python (KeyWords)\n",
        "help(\"keywords\")"
      ],
      "metadata": {
        "colab": {
          "base_uri": "https://localhost:8080/"
        },
        "id": "91hORnYy1kQ8",
        "outputId": "9d5fc02e-a50b-454f-ebac-e06a7b80be2c"
      },
      "execution_count": null,
      "outputs": [
        {
          "output_type": "stream",
          "name": "stdout",
          "text": [
            "\n",
            "Here is a list of the Python keywords.  Enter any keyword to get more help.\n",
            "\n",
            "False               class               from                or\n",
            "None                continue            global              pass\n",
            "True                def                 if                  raise\n",
            "and                 del                 import              return\n",
            "as                  elif                in                  try\n",
            "assert              else                is                  while\n",
            "async               except              lambda              with\n",
            "await               finally             nonlocal            yield\n",
            "break               for                 not                 \n",
            "\n"
          ]
        }
      ]
    },
    {
      "cell_type": "markdown",
      "source": [
        "## Introducción Financiera\n",
        "---\n",
        "En esta sección voy a dejar todos los elementos necesarios para poder iniciar el estudio financiero.\n"
      ],
      "metadata": {
        "id": "4_wJvlOI4aqk"
      }
    },
    {
      "cell_type": "markdown",
      "source": [
        "### Tasas de interés"
      ],
      "metadata": {
        "id": "C_ZRDRsZ5hhA"
      }
    },
    {
      "cell_type": "markdown",
      "source": [
        "### Interés simple\n",
        "\n",
        "\n",
        "---\n",
        "\n",
        "$$\n",
        "Vf = Vp * (1 + i)\n",
        "$$\n"
      ],
      "metadata": {
        "id": "F1vTJjHi8I08"
      }
    },
    {
      "cell_type": "code",
      "source": [
        "#vf = valor_futuro(input(\"Ingrese el valor futuro: \"))\n",
        "vp = (input(\"Ingrese el valor presente: \"))\n",
        "i = (input(\"Ingrese la tasa de interés (ej. para 4% -> 0.04): \"))\n",
        "\n",
        "vf = float(vp) * (1 + float(i))\n",
        "round(vf,2)\n",
        "print(f\"El valor futuro es: {vf}\")\n",
        "\n"
      ],
      "metadata": {
        "colab": {
          "base_uri": "https://localhost:8080/"
        },
        "id": "wlnlYzcW9mtP",
        "outputId": "8aa68709-00d9-4492-d8c0-c55d075d9b20"
      },
      "execution_count": 2,
      "outputs": [
        {
          "output_type": "stream",
          "name": "stdout",
          "text": [
            "Ingrese el valor presente: 1525478\n",
            "Ingrese la tasa de interés (ej. para 4% -> 0.04): 0.04\n",
            "El valor futuro es: 1586497.12\n"
          ]
        }
      ]
    },
    {
      "cell_type": "markdown",
      "source": [
        "### Interés compuesto\n",
        "\n",
        "\n",
        "---\n",
        "\n",
        "$$\n",
        "Vf = Vp * (1 + i) ^ n\n",
        "$$"
      ],
      "metadata": {
        "id": "TELWVPbD-5M1"
      }
    },
    {
      "cell_type": "code",
      "source": [
        "# definir las variables de la ecuación para determinar el valor futuro de una inversión\n",
        "vp = float(input(\"Ingrese el valor actual de su inversión: \"))\n",
        "i = float(input(\"Ingrese la tasa de interés: \"))\n",
        "n = int(input(\"Ingrese el número de períodos de tiempo: \"))\n",
        "\n",
        "vf = vp * (1+i)**n\n",
        "round(vf,2)\n",
        "print(f\"El valor futuro de su inversión es: {vf}\")\n",
        "type(vf)"
      ],
      "metadata": {
        "colab": {
          "base_uri": "https://localhost:8080/"
        },
        "id": "hZm8s2Al_N9V",
        "outputId": "6572e08d-fbb8-4f41-d651-67f24cfdd139"
      },
      "execution_count": 3,
      "outputs": [
        {
          "output_type": "stream",
          "name": "stdout",
          "text": [
            "Ingrese el valor actual de su inversión: 56000\n",
            "Ingrese la tasa de interés: 0.12\n",
            "Ingrese el número de períodos de tiempo: 4\n",
            "El valor futuro de su inversión es: 88117.08416000003\n"
          ]
        },
        {
          "output_type": "execute_result",
          "data": {
            "text/plain": [
              "float"
            ]
          },
          "metadata": {},
          "execution_count": 3
        }
      ]
    },
    {
      "cell_type": "markdown",
      "source": [
        "## Tasas de interés\n",
        "\n",
        "\n",
        "---\n",
        "\n",
        "Equivalencias y distintos tipos de tasas de interés.\n"
      ],
      "metadata": {
        "id": "vqn8bVQlecQj"
      }
    },
    {
      "cell_type": "markdown",
      "metadata": {
        "id": "f45184b7"
      },
      "source": [
        "### Tasa Nominal Anual (TNA)\n",
        "\n",
        "* * *\n",
        "\n",
        "La **Tasa Nominal Anual (TNA)** es una tasa de interés de referencia que se expresa anualmente, pero no necesariamente refleja el interés real ganado o pagado en un período si la capitalización ocurre con una frecuencia diferente a la anual. Es decir, la TNA es simplemente una tasa de referencia que debe ser dividida por la frecuencia de capitalización para obtener la tasa del período.\n",
        "\n",
        "La importancia de la TNA radica en su relación con las **tasas equivalentes**. Dos tasas de interés son equivalentes cuando, aplicadas a un mismo capital durante un mismo período de tiempo, producen el mismo monto final. La TNA, por sí sola, no permite comparar directamente el rendimiento de inversiones o el costo de financiamientos con distintas frecuencias de capitalización. Para ello, es necesario calcular la **Tasa Efectiva Anual (TEA)**, que sí considera el efecto de la capitalización. La TEA es la tasa equivalente anual de una TNA con una determinada frecuencia de capitalización.\n",
        "\n",
        "La TNA es una tasa de referencia anual que requiere ser ajustada según la frecuencia de capitalización para entender el rendimiento o costo real. La conversión entre TNA y TEA es fundamental para comparar diferentes opciones de inversión o financiamiento en términos de **tasas equivalentes**."
      ]
    },
    {
      "cell_type": "markdown",
      "metadata": {
        "id": "bac4c77f"
      },
      "source": [
        "### Tasa Efectiva Anual (TEA)\n",
        "\n",
        "* * *\n",
        "\n",
        "La **Tasa Efectiva Anual (TEA)** es la tasa de interés que realmente se gana o se paga sobre un capital en un período de un año, considerando el efecto de la capitalización de los intereses dentro de ese período. A diferencia de la Tasa Nominal Anual (TNA), que es una tasa de referencia, la TEA refleja el rendimiento o costo real de una inversión o un financiamiento.\n",
        "\n",
        "La importancia de la TEA radica en que permite comparar directamente diferentes opciones de inversión o financiamiento, incluso si tienen distintas frecuencias de capitalización. Es la tasa que iguala el valor presente y el valor futuro de un capital considerando la capitalización de intereses.\n",
        "\n",
        "**Usos de la TEA:**\n",
        "\n",
        "*   **Comparación de inversiones y financiamientos:** Permite saber cuál opción es más rentable o más costosa, independientemente de cómo se capitalicen los intereses.\n",
        "*   **Cálculo del rendimiento real:** Refleja el crecimiento efectivo del capital a lo largo de un año.\n",
        "*   **Toma de decisiones financieras:** Ayuda a elegir la mejor alternativa al momento de invertir o solicitar un crédito.\n",
        "\n",
        "**Relación entre TNA y TEA:**\n",
        "\n",
        "La TEA se calcula a partir de la TNA y la frecuencia de capitalización. La fórmula general es:\n",
        "\n",
        "$$\n",
        "TEA = (1 + \\frac{TNA}{m})^m - 1\n",
        "$$\n",
        "\n",
        "Donde:\n",
        "*   $TNA$ es la Tasa Nominal Anual.\n",
        "*   $m$ es el número de períodos de capitalización en un año.\n",
        "\n",
        "**Caso de Ejemplo:**\n",
        "\n",
        "Supongamos que tienes dos opciones de inversión:\n",
        "\n",
        "Opción A: Una inversión que ofrece una TNA del 10% con capitalización semestral.\n",
        "Opción B: Una inversión que ofrece una TNA del 9.8% con capitalización trimestral.\n",
        "\n",
        "Para saber cuál opción es más conveniente, calcularemos la TEA para cada una:\n",
        "\n",
        "**Opción A:**\n",
        "*   TNA = 10% = 0.10\n",
        "*   Capitalización semestral, por lo tanto, $m = 2$ (dos semestres en un año).\n",
        "\n",
        "$$\n",
        "TEA_A = (1 + \\frac{0.10}{2})^2 - 1 = (1 + 0.05)^2 - 1 = (1.05)^2 - 1 = 1.1025 - 1 = 0.1025\n",
        "$$\n",
        "\n",
        "TEA_A = 10.25%\n",
        "\n",
        "**Opción B:**\n",
        "*   TNA = 9.8% = 0.098\n",
        "*   Capitalización trimestral, por lo tanto, $m = 4$ (cuatro trimestres en un año).\n",
        "\n",
        "$$\n",
        "TEA_B = (1 + \\frac{0.098}{4})^4 - 1 = (1 + 0.0245)^4 - 1 = (1.0245)^4 - 1 \\approx 1.1008 - 1 = 0.1008\n",
        "$$\n",
        "\n",
        "TEA_B = 10.08%\n",
        "\n",
        "Comparando las TEAs:\n",
        "*   TEA_A = 10.25%\n",
        "*   TEA_B = 10.08%\n",
        "\n",
        "La Opción A tiene una Tasa Efectiva Anual (TEA) mayor (10.25%) que la Opción B (10.08%). Esto significa que, a pesar de tener una TNA nominalmente más alta, la capitalización semestral en la Opción A genera un rendimiento efectivo anual superior a la capitalización trimestral en la Opción B con una TNA ligeramente menor. Por lo tanto, la Opción A es la inversión más conveniente en este caso."
      ]
    },
    {
      "cell_type": "code",
      "source": [
        "#Conversion de TNA a TEA\n",
        "tna = float(input(\"Ingrese la tasa nominal anual: \"))\n",
        "m = int(input(\"Ingrese el número de períodos de capitalización en un año: \"))\n",
        "\n",
        "tea = (1 + tna/m)**m - 1\n",
        "print(f\"La tasa efectiva anual (TEA) es: {tea}\")\n"
      ],
      "metadata": {
        "colab": {
          "base_uri": "https://localhost:8080/"
        },
        "id": "ORmBikOOjJdi",
        "outputId": "3bf8d101-693f-42f4-d7a0-a5361d6da175"
      },
      "execution_count": 4,
      "outputs": [
        {
          "output_type": "stream",
          "name": "stdout",
          "text": [
            "Ingrese la tasa nominal anual: 0.32\n",
            "Ingrese el número de períodos de capitalización en un año: 2\n",
            "La tasa efectiva anual (TEA) es: 0.3455999999999999\n"
          ]
        }
      ]
    },
    {
      "cell_type": "markdown",
      "source": [
        "### Cálculo de un plazo fijo\n",
        "\n",
        "\n",
        "---\n",
        "\n",
        "Una inversión conservadora es la de inmovilizar cierta cantidad de dinero a plazo en una entidad financiera.\n",
        "Para ello se necesita tener el monto de la inversión, la TNA y el plazo que se pretende realizar la inversión.\n"
      ],
      "metadata": {
        "id": "Vw1BgyRWwdZN"
      }
    },
    {
      "cell_type": "code",
      "source": [
        "# Calculo de plazo fijo\n",
        "monto = float(input(\"Ingrese el monto de la inversión: \"))\n",
        "tna = float(input(\"Ingrese la tasa nominal anual (ej. 0.04 para 4%): \"))\n",
        "m = int(input(\"Ingrese el número de períodos de capitalización de la TNA en un año: \"))\n",
        "plazo = int(input(\"Ingrese el plazo en meses: \"))\n",
        "\n",
        "# Convertir la TNA en una TEA\n",
        "tea = (1 + tna/m)**m - 1\n",
        "\n",
        "# Convertir la TEA en una TEM\n",
        "tem = (1 + tea) ** (1/12) - 1\n",
        "\n",
        "# Calcular el valor futuro\n",
        "vf = monto * (1 + tem)**plazo\n",
        "\n",
        "print(f\"El valor futuro de la inversión es: {vf}\")"
      ],
      "metadata": {
        "colab": {
          "base_uri": "https://localhost:8080/"
        },
        "id": "z6N4qk_0xA2t",
        "outputId": "eb6db0bd-c05c-443a-b62f-fd1fd5e761d0"
      },
      "execution_count": 7,
      "outputs": [
        {
          "output_type": "stream",
          "name": "stdout",
          "text": [
            "Ingrese el monto de la inversión: 1500000\n",
            "Ingrese la tasa nominal anual (ej. 0.04 para 4%): 0.32\n",
            "Ingrese el número de períodos de capitalización en un año: 12\n",
            "Ingrese el plazo en meses: 2\n",
            "El valor futuro de la inversión es: 1581066.6666666665\n"
          ]
        }
      ]
    }
  ]
}