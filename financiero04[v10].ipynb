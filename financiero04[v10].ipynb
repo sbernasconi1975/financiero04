{
  "nbformat": 4,
  "nbformat_minor": 0,
  "metadata": {
    "colab": {
      "provenance": [],
      "authorship_tag": "ABX9TyNASNQKBN6ReC6Qu/1U1MVK",
      "include_colab_link": true
    },
    "kernelspec": {
      "name": "python3",
      "display_name": "Python 3"
    },
    "language_info": {
      "name": "python"
    }
  },
  "cells": [
    {
      "cell_type": "markdown",
      "metadata": {
        "id": "view-in-github",
        "colab_type": "text"
      },
      "source": [
        "<a href=\"https://colab.research.google.com/github/sbernasconi1975/financiero04/blob/main/financiero04%5Bv10%5D.ipynb\" target=\"_parent\"><img src=\"https://colab.research.google.com/assets/colab-badge.svg\" alt=\"Open In Colab\"/></a>"
      ]
    },
    {
      "cell_type": "markdown",
      "source": [
        "# Análisis Financiero\n",
        "\n",
        "---\n",
        "\n"
      ],
      "metadata": {
        "id": "9ZaHvEWlU9uN"
      }
    },
    {
      "cell_type": "markdown",
      "source": [
        "## Inicio en Python\n",
        "\n",
        "\n",
        "---\n",
        "\n",
        "  Vamos a hacer una introducción a los elementos de script que utiliza el lenguaje de programación en python."
      ],
      "metadata": {
        "id": "OLvWfmWhVb8V"
      }
    },
    {
      "cell_type": "markdown",
      "source": [
        "### Primeros pasos script\n",
        "\n",
        "\n",
        "---\n",
        "\n",
        "El output de un bloque de código, función o una línea, simplemente es la manera de transmitir información hacia el entorno. En Collab vemos el output del programa debajo de la celda donde fue ejecutado.\n",
        "\n",
        "En algunos casos (en la consola, por ejemplo), para mostrar un dato en la pantalla, precisamos utilizar el comando print( ), poniendo el dato que deseemos entre los parentesis.\n",
        "\n",
        "La estructura nombre(argumento1, argumento2, ...) corresponde a una función en Python. Una función es un bloque de código que se ejecuta sólo cuando es llamado.Como toda función, se les paso datos/instrucciones específicas, también llamados argumentos o parámetros,y nos devuelve un resultado o realiza una determinada acción.\n",
        "\n",
        "El comando print( ) va a recibir como argumento, un número y una cadena de texto, o string, e imprimirá el texto en pantalla. Print, es una \"Built-in function\", a diferencia de una función que podemos crear nosotros."
      ],
      "metadata": {
        "id": "85W9xBkjWajG"
      }
    },
    {
      "cell_type": "code",
      "execution_count": 1,
      "metadata": {
        "colab": {
          "base_uri": "https://localhost:8080/"
        },
        "id": "rzoFDEVkUvG8",
        "outputId": "8bd176a9-fd41-4b82-8182-a50aeadb1d1b"
      },
      "outputs": [
        {
          "output_type": "stream",
          "name": "stdout",
          "text": [
            "Hola, buenos días\n",
            "hoy es un bello día\n"
          ]
        }
      ],
      "source": [
        "# Imprime en la pantalla un saludo\n",
        "print(\"Hola, buenos días\") # esta función print nos permite visualizar una cadena\n",
        "print(\"hoy es un bello día\")"
      ]
    },
    {
      "cell_type": "markdown",
      "source": [
        "Luego vamos a tener las **variables** que son contenedores de los datos que les vamos a ir agregando."
      ],
      "metadata": {
        "id": "gUaUcizRXapt"
      }
    },
    {
      "cell_type": "code",
      "source": [
        "# En este caso vamos a definir una variable \"accion\" y que va a ser un texto (string) del símbolo que representa.\n",
        "accion = \"YPF\"\n",
        "precio = \"67\"\n",
        "print( \"El precio de la acción de\" ,accion, \"es de\", precio) #en este caso estamos combinando en una oración las variables que definimos"
      ],
      "metadata": {
        "colab": {
          "base_uri": "https://localhost:8080/"
        },
        "id": "4ZnJLb7_XnWU",
        "outputId": "c557d6e6-309c-4fc8-9401-fdc628137a80"
      },
      "execution_count": 3,
      "outputs": [
        {
          "output_type": "stream",
          "name": "stdout",
          "text": [
            "El precio de la acción de YPF es de 67\n"
          ]
        }
      ]
    },
    {
      "cell_type": "markdown",
      "source": [
        "En este caso anterior usamos partes sueltas para obtener el resultado pero para armar una cadena compuesta se utiliza f-string"
      ],
      "metadata": {
        "id": "VfkB2Cj8ZRBg"
      }
    },
    {
      "cell_type": "code",
      "source": [
        "print(f\"El precio de la acción de {accion} es de {precio}\")"
      ],
      "metadata": {
        "colab": {
          "base_uri": "https://localhost:8080/"
        },
        "id": "qaHjHXUnZw1F",
        "outputId": "153e1646-a19e-4b2f-da18-4f45a9c6a9a9"
      },
      "execution_count": 4,
      "outputs": [
        {
          "output_type": "stream",
          "name": "stdout",
          "text": [
            "El precio de la acción de YPF es de 67\n"
          ]
        }
      ]
    },
    {
      "cell_type": "code",
      "source": [
        "#Listado de palabras clave que son utilizadas en Python (KeyWords)\n",
        "help(\"keywords\")"
      ],
      "metadata": {
        "colab": {
          "base_uri": "https://localhost:8080/"
        },
        "id": "91hORnYy1kQ8",
        "outputId": "9d5fc02e-a50b-454f-ebac-e06a7b80be2c"
      },
      "execution_count": 5,
      "outputs": [
        {
          "output_type": "stream",
          "name": "stdout",
          "text": [
            "\n",
            "Here is a list of the Python keywords.  Enter any keyword to get more help.\n",
            "\n",
            "False               class               from                or\n",
            "None                continue            global              pass\n",
            "True                def                 if                  raise\n",
            "and                 del                 import              return\n",
            "as                  elif                in                  try\n",
            "assert              else                is                  while\n",
            "async               except              lambda              with\n",
            "await               finally             nonlocal            yield\n",
            "break               for                 not                 \n",
            "\n"
          ]
        }
      ]
    },
    {
      "cell_type": "markdown",
      "source": [
        "## Introducción Financiera\n",
        "---\n",
        "En esta sección voy a dejar todos los elementos necesarios para poder iniciar el estudio financiero.\n"
      ],
      "metadata": {
        "id": "4_wJvlOI4aqk"
      }
    }
  ]
}